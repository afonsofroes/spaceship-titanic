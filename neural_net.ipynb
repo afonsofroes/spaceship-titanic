{
 "cells": [
  {
   "cell_type": "code",
   "execution_count": 27,
   "metadata": {},
   "outputs": [],
   "source": [
    "import pandas as pd\n",
    "from modules import process_df\n",
    "from modules import get_X_y\n",
    "from keras import Sequential\n",
    "from keras.layers import Dense, Dropout\n",
    "from sklearn.model_selection import train_test_split\n",
    "from sklearn.metrics import accuracy_score"
   ]
  },
  {
   "cell_type": "code",
   "execution_count": 14,
   "metadata": {},
   "outputs": [],
   "source": [
    "train_data = pd.read_csv('data/train.csv')\n",
    "test_data = pd.read_csv('data/test.csv')"
   ]
  },
  {
   "cell_type": "code",
   "execution_count": 15,
   "metadata": {},
   "outputs": [],
   "source": [
    "X, y = get_X_y(train_data)"
   ]
  },
  {
   "cell_type": "code",
   "execution_count": 18,
   "metadata": {},
   "outputs": [],
   "source": [
    "X = process_df(X)"
   ]
  },
  {
   "cell_type": "code",
   "execution_count": 25,
   "metadata": {},
   "outputs": [
    {
     "name": "stdout",
     "output_type": "stream",
     "text": [
      "<class 'pandas.core.frame.DataFrame'>\n",
      "RangeIndex: 8693 entries, 0 to 8692\n",
      "Data columns (total 20 columns):\n",
      " #   Column         Non-Null Count  Dtype  \n",
      "---  ------         --------------  -----  \n",
      " 0   cryo_sleep     8693 non-null   int64  \n",
      " 1   age            8693 non-null   float64\n",
      " 2   vip            8693 non-null   int64  \n",
      " 3   room_service   8693 non-null   float64\n",
      " 4   food_court     8693 non-null   float64\n",
      " 5   shopping_mall  8693 non-null   float64\n",
      " 6   spa            8693 non-null   float64\n",
      " 7   vr_deck        8693 non-null   float64\n",
      " 8   cabin_num      8494 non-null   float64\n",
      " 9   service_total  8693 non-null   float64\n",
      " 10  cabin_deck_A   8693 non-null   uint8  \n",
      " 11  cabin_deck_B   8693 non-null   uint8  \n",
      " 12  cabin_deck_C   8693 non-null   uint8  \n",
      " 13  cabin_deck_D   8693 non-null   uint8  \n",
      " 14  cabin_deck_E   8693 non-null   uint8  \n",
      " 15  cabin_deck_F   8693 non-null   uint8  \n",
      " 16  cabin_deck_G   8693 non-null   uint8  \n",
      " 17  cabin_deck_T   8693 non-null   uint8  \n",
      " 18  cabin_side_P   8693 non-null   uint8  \n",
      " 19  cabin_side_S   8693 non-null   uint8  \n",
      "dtypes: float64(8), int64(2), uint8(10)\n",
      "memory usage: 764.2 KB\n"
     ]
    }
   ],
   "source": [
    "X.vip = X.vip.astype(int)\n",
    "X.cryo_sleep = X.cryo_sleep.astype(int)\n",
    "X.info()\n"
   ]
  },
  {
   "cell_type": "code",
   "execution_count": 30,
   "metadata": {},
   "outputs": [
    {
     "name": "stdout",
     "output_type": "stream",
     "text": [
      "Epoch 1/100\n",
      "6954/6954 [==============================] - 25s 3ms/step - loss: 1.3557 - accuracy: 0.5070 - val_loss: 0.6945 - val_accuracy: 0.4761\n",
      "Epoch 2/100\n",
      "6954/6954 [==============================] - 23s 3ms/step - loss: 0.6938 - accuracy: 0.5032 - val_loss: 0.6932 - val_accuracy: 0.4761\n",
      "Epoch 3/100\n",
      "6954/6954 [==============================] - 26s 4ms/step - loss: 0.6933 - accuracy: 0.5039 - val_loss: 0.6954 - val_accuracy: 0.4761\n",
      "Epoch 4/100\n",
      "6954/6954 [==============================] - 22s 3ms/step - loss: 0.6935 - accuracy: 0.5019 - val_loss: 0.6935 - val_accuracy: 0.4761\n",
      "Epoch 5/100\n",
      "6954/6954 [==============================] - 21s 3ms/step - loss: 0.6932 - accuracy: 0.5063 - val_loss: 0.6935 - val_accuracy: 0.4761\n",
      "Epoch 6/100\n",
      "6954/6954 [==============================] - 21s 3ms/step - loss: 0.6931 - accuracy: 0.5063 - val_loss: 0.6959 - val_accuracy: 0.4761\n",
      "Epoch 7/100\n",
      "6954/6954 [==============================] - 21s 3ms/step - loss: 0.6931 - accuracy: 0.5026 - val_loss: 0.6962 - val_accuracy: 0.4761\n",
      "Epoch 8/100\n",
      "6954/6954 [==============================] - 22s 3ms/step - loss: 0.6931 - accuracy: 0.5076 - val_loss: 0.6960 - val_accuracy: 0.4761\n",
      "Epoch 9/100\n",
      "6954/6954 [==============================] - 24s 3ms/step - loss: 0.6932 - accuracy: 0.5059 - val_loss: 0.6944 - val_accuracy: 0.4761\n",
      "Epoch 10/100\n",
      "6954/6954 [==============================] - 24s 3ms/step - loss: 0.6932 - accuracy: 0.5075 - val_loss: 0.6945 - val_accuracy: 0.4761\n",
      "Epoch 11/100\n",
      "6954/6954 [==============================] - 24s 3ms/step - loss: 0.6931 - accuracy: 0.5052 - val_loss: 0.6932 - val_accuracy: 0.4761\n",
      "Epoch 12/100\n",
      "6954/6954 [==============================] - 22s 3ms/step - loss: 0.6931 - accuracy: 0.5075 - val_loss: 0.6937 - val_accuracy: 0.4761\n"
     ]
    },
    {
     "data": {
      "text/plain": [
       "<keras.callbacks.History at 0x7fa41821f1c0>"
      ]
     },
     "execution_count": 30,
     "metadata": {},
     "output_type": "execute_result"
    }
   ],
   "source": [
    "# make a neural network\n",
    "from keras.callbacks import EarlyStopping\n",
    "\n",
    "model = Sequential()\n",
    "\n",
    "model.add(Dense(32, activation='relu', input_shape=(X.shape[1],)))\n",
    "model.add(Dropout(0.5))\n",
    "model.add(Dense(64, activation='relu'))\n",
    "model.add(Dropout(0.5))\n",
    "model.add(Dense(64, activation='relu'))\n",
    "model.add(Dropout(0.5))\n",
    "model.add(Dense(32, activation='relu'))\n",
    "model.add(Dropout(0.5))\n",
    "model.add(Dense(1, activation='sigmoid'))\n",
    "\n",
    "model.compile(optimizer='adam', loss='binary_crossentropy', metrics=['accuracy'])\n",
    "\n",
    "model.fit(X, y, epochs=100, batch_size=1, verbose=1, validation_split=0.2, callbacks=[EarlyStopping(patience=10)])\n",
    "\n"
   ]
  },
  {
   "cell_type": "code",
   "execution_count": null,
   "metadata": {},
   "outputs": [],
   "source": []
  }
 ],
 "metadata": {
  "kernelspec": {
   "display_name": "lewagon",
   "language": "python",
   "name": "python3"
  },
  "language_info": {
   "codemirror_mode": {
    "name": "ipython",
    "version": 3
   },
   "file_extension": ".py",
   "mimetype": "text/x-python",
   "name": "python",
   "nbconvert_exporter": "python",
   "pygments_lexer": "ipython3",
   "version": "3.10.6"
  },
  "orig_nbformat": 4
 },
 "nbformat": 4,
 "nbformat_minor": 2
}
