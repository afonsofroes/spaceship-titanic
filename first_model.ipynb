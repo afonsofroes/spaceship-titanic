{
 "cells": [
  {
   "cell_type": "code",
   "execution_count": 5,
   "metadata": {},
   "outputs": [],
   "source": [
    "import pandas as pd\n",
    "from sklearn.preprocessing import StandardScaler\n",
    "from sklearn.impute import SimpleImputer\n",
    "from xgboost import XGBClassifier\n",
    "from sklearn.metrics import accuracy_score"
   ]
  },
  {
   "cell_type": "code",
   "execution_count": 6,
   "metadata": {},
   "outputs": [],
   "source": [
    "train_data = pd.read_csv('data/train.csv')\n",
    "test_data = pd.read_csv('data/test.csv')"
   ]
  },
  {
   "cell_type": "code",
   "execution_count": 3,
   "metadata": {},
   "outputs": [],
   "source": [
    "train_data.dropna(axis=0, subset=['Cabin'], inplace=True)"
   ]
  },
  {
   "cell_type": "code",
   "execution_count": 7,
   "metadata": {},
   "outputs": [],
   "source": [
    "def get_X_y(data):\n",
    "    X = train_data.drop(['Transported'], axis=1)\n",
    "    y = train_data['Transported']\n",
    "    #data.dropna(axis=0, subset=['Cabin'], inplace=True)\n",
    "    return X, y"
   ]
  },
  {
   "cell_type": "code",
   "execution_count": 17,
   "metadata": {},
   "outputs": [],
   "source": [
    "def drop_pointless_columns(X):\n",
    "    X = X.drop(['PassengerId', 'Name'], axis=1)\n",
    "    return X"
   ]
  },
  {
   "cell_type": "code",
   "execution_count": 18,
   "metadata": {},
   "outputs": [],
   "source": [
    "def snake_case_columns(df):\n",
    "    df.rename(columns={\n",
    "    'CryoSleep' : 'cryo_sleep', \n",
    "    'HomePlanet' : 'home_planet',\n",
    "    'Destination' : 'destination',\n",
    "    'Cabin' : 'cabin', \n",
    "    'Age' : 'age', \n",
    "    'VIP' : 'vip',\n",
    "    'RoomService' : 'room_service',\n",
    "    'FoodCourt' : 'food_court',\n",
    "    'ShoppingMall' : 'shopping_mall',\n",
    "    'Spa' : 'spa',\n",
    "    'VRDeck' : 'vr_deck'\n",
    "    }, inplace=True)\n",
    "\n",
    "    return df"
   ]
  },
  {
   "cell_type": "code",
   "execution_count": 19,
   "metadata": {},
   "outputs": [],
   "source": [
    "def engineer_cabin_cols(df):\n",
    "    cabin_imputer = SimpleImputer(strategy='constant', fill_value='F/1/P')\n",
    "    cabin_imputer.fit_transform(df[['cabin']])\n",
    "    df['cabin_deck'] = df.cabin.str[0]\n",
    "    df['cabin_num'] = df.cabin.str[2:-2]\n",
    "    df['cabin_side'] = df.cabin.str[-1]\n",
    "    df.drop('cabin', axis=1, inplace=True)\n",
    "    return df"
   ]
  },
  {
   "cell_type": "code",
   "execution_count": 20,
   "metadata": {},
   "outputs": [],
   "source": [
    "def impute_services(df):\n",
    "    df['room_service'] = df.room_service.fillna(0)\n",
    "    df['food_court'] = df.food_court.fillna(0)\n",
    "    df['shopping_mall'] = df.shopping_mall.fillna(0)\n",
    "    df['spa'] = df.spa.fillna(0)\n",
    "    df['vr_deck'] = df.vr_deck.fillna(0)\n",
    "    return df"
   ]
  },
  {
   "cell_type": "code",
   "execution_count": 21,
   "metadata": {},
   "outputs": [],
   "source": [
    "def calculate_service_total(df):\n",
    "    df['service_total'] = df.room_service + df.food_court + df.shopping_mall + df.spa + df.vr_deck\n",
    "    return df"
   ]
  },
  {
   "cell_type": "code",
   "execution_count": 22,
   "metadata": {},
   "outputs": [],
   "source": [
    "def impute_vip(df):\n",
    "    df.vip = df.vip.astype(bool)\n",
    "    media_diff = 1981.0\n",
    "    media_diff = df[df.vip == True].service_total.median() - df[df.vip == False].service_total.median()\n",
    "    df.vip = df.apply(lambda row: 1 if row.service_total > media_diff and pd.isna(row.vip) else row.vip, axis=1)\n",
    "    df.vip.fillna(0, inplace=True)\n",
    "    return df"
   ]
  },
  {
   "cell_type": "code",
   "execution_count": 23,
   "metadata": {},
   "outputs": [],
   "source": [
    "def impute_age(df):\n",
    "    age_imputer = SimpleImputer(strategy='median')\n",
    "    df['age'] = age_imputer.fit_transform(df[['age']])\n",
    "    return df"
   ]
  },
  {
   "cell_type": "code",
   "execution_count": 24,
   "metadata": {},
   "outputs": [],
   "source": [
    "def impute_cryo_sleep(df):\n",
    "    df.cryo_sleep = df.cryo_sleep.astype(bool)\n",
    "    if df.cryo_sleep is None and df.service_total > 0:\n",
    "        cryo_sleep = 1\n",
    "    else:\n",
    "        cryo_sleep = 0\n",
    "    return df"
   ]
  },
  {
   "cell_type": "code",
   "execution_count": 25,
   "metadata": {},
   "outputs": [],
   "source": [
    "def scale_and_ohe(df):\n",
    "    scaler = StandardScaler()\n",
    "    df[['age', 'cabin_num']] = scaler.fit_transform(df[['age', 'cabin_num']])\n",
    "\n",
    "    df = pd.get_dummies(df, columns=['cabin_deck', 'cabin_side', 'home_planet', 'destination'])\n",
    "    return df"
   ]
  },
  {
   "cell_type": "code",
   "execution_count": 26,
   "metadata": {},
   "outputs": [],
   "source": [
    "def process_df(df):\n",
    "    df = drop_pointless_columns(df)\n",
    "    df = snake_case_columns(df)\n",
    "    df = engineer_cabin_cols(df)\n",
    "    df = impute_services(df)\n",
    "    df = calculate_service_total(df)\n",
    "    df = impute_vip(df)\n",
    "    df = impute_age(df)\n",
    "    df = impute_cryo_sleep(df)\n",
    "    df = scale_and_ohe(df)\n",
    "    return df"
   ]
  },
  {
   "cell_type": "code",
   "execution_count": 27,
   "metadata": {},
   "outputs": [],
   "source": [
    "proc_df = process_df(test_data)"
   ]
  },
  {
   "cell_type": "code",
   "execution_count": 28,
   "metadata": {},
   "outputs": [],
   "source": [
    "X, y = get_X_y(train_data)"
   ]
  },
  {
   "cell_type": "code",
   "execution_count": 29,
   "metadata": {},
   "outputs": [],
   "source": [
    "X_train = process_df(X)"
   ]
  },
  {
   "cell_type": "code",
   "execution_count": 30,
   "metadata": {},
   "outputs": [],
   "source": [
    "model = XGBClassifier(learning_rate=0.02, max_depth=6, n_estimators=700)\n",
    "\n",
    "model.fit(X_train, y)\n",
    "\n",
    "y_pred = model.predict(proc_df)\n"
   ]
  },
  {
   "cell_type": "code",
   "execution_count": 31,
   "metadata": {},
   "outputs": [
    {
     "name": "stdout",
     "output_type": "stream",
     "text": [
      "<class 'pandas.core.frame.DataFrame'>\n",
      "RangeIndex: 8693 entries, 0 to 8692\n",
      "Data columns (total 26 columns):\n",
      " #   Column                     Non-Null Count  Dtype  \n",
      "---  ------                     --------------  -----  \n",
      " 0   cryo_sleep                 8693 non-null   bool   \n",
      " 1   age                        8693 non-null   float64\n",
      " 2   vip                        8693 non-null   bool   \n",
      " 3   room_service               8693 non-null   float64\n",
      " 4   food_court                 8693 non-null   float64\n",
      " 5   shopping_mall              8693 non-null   float64\n",
      " 6   spa                        8693 non-null   float64\n",
      " 7   vr_deck                    8693 non-null   float64\n",
      " 8   cabin_num                  8494 non-null   float64\n",
      " 9   service_total              8693 non-null   float64\n",
      " 10  cabin_deck_A               8693 non-null   uint8  \n",
      " 11  cabin_deck_B               8693 non-null   uint8  \n",
      " 12  cabin_deck_C               8693 non-null   uint8  \n",
      " 13  cabin_deck_D               8693 non-null   uint8  \n",
      " 14  cabin_deck_E               8693 non-null   uint8  \n",
      " 15  cabin_deck_F               8693 non-null   uint8  \n",
      " 16  cabin_deck_G               8693 non-null   uint8  \n",
      " 17  cabin_deck_T               8693 non-null   uint8  \n",
      " 18  cabin_side_P               8693 non-null   uint8  \n",
      " 19  cabin_side_S               8693 non-null   uint8  \n",
      " 20  home_planet_Earth          8693 non-null   uint8  \n",
      " 21  home_planet_Europa         8693 non-null   uint8  \n",
      " 22  home_planet_Mars           8693 non-null   uint8  \n",
      " 23  destination_55 Cancri e    8693 non-null   uint8  \n",
      " 24  destination_PSO J318.5-22  8693 non-null   uint8  \n",
      " 25  destination_TRAPPIST-1e    8693 non-null   uint8  \n",
      "dtypes: bool(2), float64(8), uint8(16)\n",
      "memory usage: 696.2 KB\n"
     ]
    }
   ],
   "source": [
    "X_train.info()"
   ]
  },
  {
   "cell_type": "code",
   "execution_count": 113,
   "metadata": {},
   "outputs": [],
   "source": [
    "y_pred = y_pred.astype(bool)\n",
    "ids = test_data['PassengerId']"
   ]
  },
  {
   "cell_type": "code",
   "execution_count": 114,
   "metadata": {},
   "outputs": [],
   "source": [
    "submission = pd.DataFrame({'PassengerId': test_data.PassengerId, 'Transported': y_pred})"
   ]
  },
  {
   "cell_type": "code",
   "execution_count": 115,
   "metadata": {},
   "outputs": [],
   "source": [
    "submission.to_csv('submission_8.csv', index=False)"
   ]
  },
  {
   "cell_type": "code",
   "execution_count": null,
   "metadata": {},
   "outputs": [],
   "source": []
  }
 ],
 "metadata": {
  "kernelspec": {
   "display_name": "lewagon",
   "language": "python",
   "name": "python3"
  },
  "language_info": {
   "codemirror_mode": {
    "name": "ipython",
    "version": 3
   },
   "file_extension": ".py",
   "mimetype": "text/x-python",
   "name": "python",
   "nbconvert_exporter": "python",
   "pygments_lexer": "ipython3",
   "version": "3.10.6"
  },
  "orig_nbformat": 4
 },
 "nbformat": 4,
 "nbformat_minor": 2
}
