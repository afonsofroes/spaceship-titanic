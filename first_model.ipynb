{
 "cells": [
  {
   "cell_type": "code",
   "execution_count": 1,
   "metadata": {},
   "outputs": [],
   "source": [
    "import pandas as pd\n",
    "import matplotlib.pyplot as plt\n",
    "import seaborn as sns\n",
    "from sklearn.pipeline import make_pipeline\n",
    "from sklearn.preprocessing import StandardScaler, OneHotEncoder\n",
    "from sklearn.compose import make_column_transformer\n",
    "from sklearn.model_selection import train_test_split\n",
    "from sklearn.impute import SimpleImputer, KNNImputer\n",
    "from sklearn.svm import SVC\n",
    "from sklearn.metrics import accuracy_score"
   ]
  },
  {
   "cell_type": "code",
   "execution_count": 2,
   "metadata": {},
   "outputs": [],
   "source": [
    "train_data = pd.read_csv('data/train.csv')\n",
    "test_data = pd.read_csv('data/test.csv')"
   ]
  },
  {
   "cell_type": "code",
   "execution_count": 3,
   "metadata": {},
   "outputs": [],
   "source": [
    "train_data.dropna(axis=0, subset=['Cabin'], inplace=True)"
   ]
  },
  {
   "cell_type": "code",
   "execution_count": 4,
   "metadata": {},
   "outputs": [],
   "source": [
    "def get_X_y(data):\n",
    "    X = train_data.drop(['Transported'], axis=1)\n",
    "    y = train_data['Transported']\n",
    "    data.dropna(axis=0, subset=['Cabin'], inplace=True)\n",
    "    return X, y"
   ]
  },
  {
   "cell_type": "code",
   "execution_count": 5,
   "metadata": {},
   "outputs": [],
   "source": [
    "def drop_pointless_columns(X):\n",
    "    X = X.drop(['PassengerId', 'Name', 'HomePlanet', 'Destination'], axis=1)\n",
    "    return X"
   ]
  },
  {
   "cell_type": "code",
   "execution_count": 6,
   "metadata": {},
   "outputs": [],
   "source": [
    "def snake_case_columns(df):\n",
    "    df.rename(columns={\n",
    "    'CryoSleep' : 'cryo_sleep', \n",
    "    'Cabin' : 'cabin', \n",
    "    'Age' : 'age', \n",
    "    'VIP' : 'vip',\n",
    "    'RoomService' : 'room_service',\n",
    "    'FoodCourt' : 'food_court',\n",
    "    'ShoppingMall' : 'shopping_mall',\n",
    "    'Spa' : 'spa',\n",
    "    'VRDeck' : 'vr_deck'\n",
    "    }, inplace=True)\n",
    "\n",
    "    return df"
   ]
  },
  {
   "cell_type": "code",
   "execution_count": 7,
   "metadata": {},
   "outputs": [],
   "source": [
    "def engineer_cabin_cols(df):\n",
    "    cabin_imputer = SimpleImputer(strategy='constant', fill_value='F0P')\n",
    "    df['cabin_deck'] = df.cabin.str[0]\n",
    "    df['cabin_num'] = df.cabin.str[2:-2]\n",
    "    df['cabin_side'] = df.cabin.str[-1]\n",
    "    df.drop('cabin', axis=1, inplace=True)\n",
    "    return df"
   ]
  },
  {
   "cell_type": "code",
   "execution_count": 8,
   "metadata": {},
   "outputs": [],
   "source": [
    "def impute_services(df):\n",
    "    df['room_service'] = df.room_service.fillna(0)\n",
    "    df['food_court'] = df.food_court.fillna(0)\n",
    "    df['shopping_mall'] = df.shopping_mall.fillna(0)\n",
    "    df['spa'] = df.spa.fillna(0)\n",
    "    df['vr_deck'] = df.vr_deck.fillna(0)\n",
    "    return df"
   ]
  },
  {
   "cell_type": "code",
   "execution_count": 9,
   "metadata": {},
   "outputs": [],
   "source": [
    "def calculate_service_total(df):\n",
    "    df['service_total'] = df.room_service + df.food_court + df.shopping_mall + df.spa + df.vr_deck\n",
    "    return df"
   ]
  },
  {
   "cell_type": "code",
   "execution_count": 10,
   "metadata": {},
   "outputs": [],
   "source": [
    "def impute_vip(df):\n",
    "    df.vip = df.vip.astype(bool)\n",
    "    vip_imputer = KNNImputer(n_neighbors=10)\n",
    "    df['vip'] = vip_imputer.fit_transform(df[['vip']])\n",
    "    return df"
   ]
  },
  {
   "cell_type": "code",
   "execution_count": 11,
   "metadata": {},
   "outputs": [],
   "source": [
    "def impute_age(df):\n",
    "    age_imputer = SimpleImputer(strategy='median')\n",
    "    df['age'] = age_imputer.fit_transform(df[['age']])\n",
    "    return df"
   ]
  },
  {
   "cell_type": "code",
   "execution_count": 12,
   "metadata": {},
   "outputs": [],
   "source": [
    "def impute_cryo_sleep(df):\n",
    "    df.cryo_sleep = df.cryo_sleep.astype(bool)\n",
    "    if df.cryo_sleep is None and df.service_total > 0:\n",
    "        cryo_sleep = 1\n",
    "    else:\n",
    "        cryo_sleep = 0\n",
    "    return df"
   ]
  },
  {
   "cell_type": "code",
   "execution_count": 13,
   "metadata": {},
   "outputs": [],
   "source": [
    "def scale_and_ohe(df):\n",
    "    scaler = StandardScaler()\n",
    "    df[['age', 'cabin_num']] = scaler.fit_transform(df[['age', 'cabin_num']])\n",
    "\n",
    "    df = pd.get_dummies(df, columns=['cabin_deck', 'cabin_side'])\n",
    "    return df"
   ]
  },
  {
   "cell_type": "code",
   "execution_count": 14,
   "metadata": {},
   "outputs": [],
   "source": [
    "def process_df(df):\n",
    "    df = drop_pointless_columns(df)\n",
    "    df = snake_case_columns(df)\n",
    "    df = engineer_cabin_cols(df)\n",
    "    df = impute_services(df)\n",
    "    df = calculate_service_total(df)\n",
    "    df = impute_vip(df)\n",
    "    df = impute_age(df)\n",
    "    df = impute_cryo_sleep(df)\n",
    "    df = scale_and_ohe(df)\n",
    "    return df"
   ]
  },
  {
   "cell_type": "code",
   "execution_count": 15,
   "metadata": {},
   "outputs": [],
   "source": [
    "proc_df = process_df(test_data)"
   ]
  },
  {
   "cell_type": "code",
   "execution_count": 16,
   "metadata": {},
   "outputs": [],
   "source": [
    "X, y = get_X_y(train_data)"
   ]
  },
  {
   "cell_type": "code",
   "execution_count": 17,
   "metadata": {},
   "outputs": [],
   "source": [
    "X_train = process_df(X)"
   ]
  },
  {
   "cell_type": "code",
   "execution_count": 18,
   "metadata": {},
   "outputs": [],
   "source": [
    "from xgboost import XGBClassifier\n",
    "\n",
    "model = XGBClassifier(learning_rate=0.02, max_depth=6, n_estimators=700)\n",
    "\n",
    "model.fit(X_train, y)\n",
    "\n",
    "y_pred = model.predict(proc_df)\n"
   ]
  },
  {
   "cell_type": "code",
   "execution_count": 19,
   "metadata": {},
   "outputs": [],
   "source": [
    "y_pred = y_pred.astype(bool)\n",
    "ids = test_data['PassengerId']"
   ]
  },
  {
   "cell_type": "code",
   "execution_count": 20,
   "metadata": {},
   "outputs": [],
   "source": [
    "submission = pd.DataFrame({'PassengerId': test_data.PassengerId, 'Transported': y_pred})"
   ]
  },
  {
   "cell_type": "code",
   "execution_count": 21,
   "metadata": {},
   "outputs": [],
   "source": [
    "submission.to_csv('submission_1.csv', index=False)"
   ]
  }
 ],
 "metadata": {
  "kernelspec": {
   "display_name": "lewagon",
   "language": "python",
   "name": "python3"
  },
  "language_info": {
   "codemirror_mode": {
    "name": "ipython",
    "version": 3
   },
   "file_extension": ".py",
   "mimetype": "text/x-python",
   "name": "python",
   "nbconvert_exporter": "python",
   "pygments_lexer": "ipython3",
   "version": "3.10.6"
  },
  "orig_nbformat": 4
 },
 "nbformat": 4,
 "nbformat_minor": 2
}
