{
 "cells": [
  {
   "cell_type": "code",
   "execution_count": 76,
   "metadata": {},
   "outputs": [],
   "source": [
    "import pandas as pd\n",
    "from sklearn.preprocessing import StandardScaler, OneHotEncoder\n",
    "from sklearn.impute import SimpleImputer\n",
    "from xgboost import XGBClassifier\n",
    "from sklearn.metrics import accuracy_score"
   ]
  },
  {
   "cell_type": "code",
   "execution_count": 77,
   "metadata": {},
   "outputs": [],
   "source": [
    "train_data = pd.read_csv('data/train.csv')\n",
    "test_data = pd.read_csv('data/test.csv')"
   ]
  },
  {
   "cell_type": "code",
   "execution_count": 78,
   "metadata": {},
   "outputs": [],
   "source": [
    "train_data.dropna(axis=0, subset=['Cabin'], inplace=True)"
   ]
  },
  {
   "cell_type": "code",
   "execution_count": 79,
   "metadata": {},
   "outputs": [],
   "source": [
    "def get_X_y(data):\n",
    "    X = train_data.drop(['Transported'], axis=1)\n",
    "    y = train_data['Transported']\n",
    "    data.dropna(axis=0, subset=['Cabin'], inplace=True)\n",
    "    return X, y"
   ]
  },
  {
   "cell_type": "code",
   "execution_count": 80,
   "metadata": {},
   "outputs": [],
   "source": [
    "def drop_pointless_columns(X):\n",
    "    X = X.drop(['PassengerId', 'Name'], axis=1)\n",
    "    return X"
   ]
  },
  {
   "cell_type": "code",
   "execution_count": 81,
   "metadata": {},
   "outputs": [],
   "source": [
    "def snake_case_columns(df):\n",
    "    df.rename(columns={\n",
    "    'CryoSleep' : 'cryo_sleep', \n",
    "    'HomePlanet' : 'home_planet',\n",
    "    'Destination' : 'destination',\n",
    "    'Cabin' : 'cabin', \n",
    "    'Age' : 'age', \n",
    "    'VIP' : 'vip',\n",
    "    'RoomService' : 'room_service',\n",
    "    'FoodCourt' : 'food_court',\n",
    "    'ShoppingMall' : 'shopping_mall',\n",
    "    'Spa' : 'spa',\n",
    "    'VRDeck' : 'vr_deck'\n",
    "    }, inplace=True)\n",
    "\n",
    "    return df"
   ]
  },
  {
   "cell_type": "code",
   "execution_count": 82,
   "metadata": {},
   "outputs": [],
   "source": [
    "def engineer_cabin_cols(df):\n",
    "    cabin_imputer = SimpleImputer(strategy='constant', fill_value='F/1/P')\n",
    "    cabin_imputer.fit_transform(df[['cabin']])\n",
    "    df['cabin_deck'] = df.cabin.str[0]\n",
    "    df['cabin_num'] = df.cabin.str[2:-2]\n",
    "    df['cabin_side'] = df.cabin.str[-1]\n",
    "    df.drop('cabin', axis=1, inplace=True)\n",
    "    return df"
   ]
  },
  {
   "cell_type": "code",
   "execution_count": 83,
   "metadata": {},
   "outputs": [],
   "source": [
    "def impute_services(df):\n",
    "    df['room_service'] = df.room_service.fillna(0)\n",
    "    df['food_court'] = df.food_court.fillna(0)\n",
    "    df['shopping_mall'] = df.shopping_mall.fillna(0)\n",
    "    df['spa'] = df.spa.fillna(0)\n",
    "    df['vr_deck'] = df.vr_deck.fillna(0)\n",
    "    return df"
   ]
  },
  {
   "cell_type": "code",
   "execution_count": 84,
   "metadata": {},
   "outputs": [],
   "source": [
    "def calculate_service_total(df):\n",
    "    df['service_total'] = df.room_service + df.food_court + df.shopping_mall + df.spa + df.vr_deck\n",
    "    return df"
   ]
  },
  {
   "cell_type": "code",
   "execution_count": 85,
   "metadata": {},
   "outputs": [],
   "source": [
    "def impute_vip(df):\n",
    "    df.vip = df.vip.astype(bool)\n",
    "    media_diff = 1981.0\n",
    "    media_diff = df[df.vip == True].service_total.median() - df[df.vip == False].service_total.median()\n",
    "    df.vip = df.apply(lambda row: 1 if row.service_total > media_diff and pd.isna(row.vip) else row.vip, axis=1)\n",
    "    df.vip.fillna(0, inplace=True)\n",
    "    return df"
   ]
  },
  {
   "cell_type": "code",
   "execution_count": 86,
   "metadata": {},
   "outputs": [],
   "source": [
    "def impute_age(df):\n",
    "    age_imputer = SimpleImputer(strategy='median')\n",
    "    df['age'] = age_imputer.fit_transform(df[['age']])\n",
    "    return df"
   ]
  },
  {
   "cell_type": "code",
   "execution_count": 87,
   "metadata": {},
   "outputs": [],
   "source": [
    "def impute_cryo_sleep(df):\n",
    "    df.cryo_sleep = df.cryo_sleep.astype(bool)\n",
    "    if df.cryo_sleep is None and df.service_total > 0:\n",
    "        cryo_sleep = 1\n",
    "    else:\n",
    "        cryo_sleep = 0\n",
    "    return df"
   ]
  },
  {
   "cell_type": "code",
   "execution_count": 88,
   "metadata": {},
   "outputs": [],
   "source": [
    "def scale_and_ohe(df):\n",
    "    scaler = StandardScaler()\n",
    "    df[['age', 'cabin_num']] = scaler.fit_transform(df[['age', 'cabin_num']])\n",
    "\n",
    "    df = pd.get_dummies(df, columns=['cabin_deck', 'cabin_side', 'home_planet', 'destination'])\n",
    "    return df"
   ]
  },
  {
   "cell_type": "code",
   "execution_count": 89,
   "metadata": {},
   "outputs": [],
   "source": [
    "def process_df(df):\n",
    "    df = drop_pointless_columns(df)\n",
    "    df = snake_case_columns(df)\n",
    "    df = engineer_cabin_cols(df)\n",
    "    df = impute_services(df)\n",
    "    df = calculate_service_total(df)\n",
    "    df = impute_vip(df)\n",
    "    df = impute_age(df)\n",
    "    df = impute_cryo_sleep(df)\n",
    "    df = scale_and_ohe(df)\n",
    "    return df"
   ]
  },
  {
   "cell_type": "code",
   "execution_count": 90,
   "metadata": {},
   "outputs": [],
   "source": [
    "proc_df = process_df(test_data)"
   ]
  },
  {
   "cell_type": "code",
   "execution_count": 91,
   "metadata": {},
   "outputs": [],
   "source": [
    "X, y = get_X_y(train_data)"
   ]
  },
  {
   "cell_type": "code",
   "execution_count": 92,
   "metadata": {},
   "outputs": [],
   "source": [
    "X_train = process_df(X)"
   ]
  },
  {
   "cell_type": "code",
   "execution_count": 93,
   "metadata": {},
   "outputs": [],
   "source": [
    "model = XGBClassifier(learning_rate=0.02, max_depth=6, n_estimators=700)\n",
    "\n",
    "model.fit(X_train, y)\n",
    "\n",
    "y_pred = model.predict(proc_df)\n"
   ]
  },
  {
   "cell_type": "code",
   "execution_count": 75,
   "metadata": {},
   "outputs": [
    {
     "data": {
      "text/plain": [
       "cryo_sleep       0\n",
       "age              0\n",
       "vip              0\n",
       "room_service     0\n",
       "food_court       0\n",
       "shopping_mall    0\n",
       "spa              0\n",
       "vr_deck          0\n",
       "cabin_num        0\n",
       "service_total    0\n",
       "cabin_deck_A     0\n",
       "cabin_deck_B     0\n",
       "cabin_deck_C     0\n",
       "cabin_deck_D     0\n",
       "cabin_deck_E     0\n",
       "cabin_deck_F     0\n",
       "cabin_deck_G     0\n",
       "cabin_deck_T     0\n",
       "cabin_side_P     0\n",
       "cabin_side_S     0\n",
       "dtype: int64"
      ]
     },
     "execution_count": 75,
     "metadata": {},
     "output_type": "execute_result"
    }
   ],
   "source": [
    "X_train.isna().sum()  "
   ]
  },
  {
   "cell_type": "code",
   "execution_count": 19,
   "metadata": {},
   "outputs": [],
   "source": [
    "y_pred = y_pred.astype(bool)\n",
    "ids = test_data['PassengerId']"
   ]
  },
  {
   "cell_type": "code",
   "execution_count": 23,
   "metadata": {},
   "outputs": [],
   "source": [
    "submission = pd.DataFrame({'PassengerId': test_data.PassengerId, 'Transported': y_pred})"
   ]
  },
  {
   "cell_type": "code",
   "execution_count": 24,
   "metadata": {},
   "outputs": [],
   "source": [
    "submission.to_csv('submission_4.csv', index=False)"
   ]
  },
  {
   "cell_type": "code",
   "execution_count": null,
   "metadata": {},
   "outputs": [],
   "source": []
  }
 ],
 "metadata": {
  "kernelspec": {
   "display_name": "lewagon",
   "language": "python",
   "name": "python3"
  },
  "language_info": {
   "codemirror_mode": {
    "name": "ipython",
    "version": 3
   },
   "file_extension": ".py",
   "mimetype": "text/x-python",
   "name": "python",
   "nbconvert_exporter": "python",
   "pygments_lexer": "ipython3",
   "version": "3.10.6"
  },
  "orig_nbformat": 4
 },
 "nbformat": 4,
 "nbformat_minor": 2
}
