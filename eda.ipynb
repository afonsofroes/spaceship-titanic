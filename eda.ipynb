{
 "cells": [
  {
   "cell_type": "code",
   "execution_count": 1,
   "metadata": {},
   "outputs": [],
   "source": [
    "import pandas as pd\n",
    "import matplotlib.pyplot as plt\n",
    "import seaborn as sns\n",
    "from sklearn.pipeline import make_pipeline\n",
    "from sklearn.preprocessing import StandardScaler, OneHotEncoder, FunctionTransformer\n",
    "from sklearn.compose import make_column_transformer\n",
    "from sklearn.model_selection import train_test_split\n",
    "from sklearn.impute import SimpleImputer, KNNImputer\n",
    "from sklearn.svm import SVC\n",
    "from sklearn.metrics import accuracy_score\n",
    "from feature_engine.selection import DropFeatures\n"
   ]
  },
  {
   "cell_type": "code",
   "execution_count": 2,
   "metadata": {},
   "outputs": [],
   "source": [
    "train_data = pd.read_csv('data/train.csv')\n",
    "test_data = pd.read_csv('data/test.csv')"
   ]
  },
  {
   "cell_type": "code",
   "execution_count": 3,
   "metadata": {},
   "outputs": [],
   "source": [
    "train_data.dropna(axis=0, subset=['Cabin'], inplace=True)"
   ]
  },
  {
   "cell_type": "code",
   "execution_count": 4,
   "metadata": {},
   "outputs": [
    {
     "data": {
      "text/plain": [
       "Index(['PassengerId', 'HomePlanet', 'CryoSleep', 'Cabin', 'Destination', 'Age',\n",
       "       'VIP', 'RoomService', 'FoodCourt', 'ShoppingMall', 'Spa', 'VRDeck',\n",
       "       'Name', 'Transported'],\n",
       "      dtype='object')"
      ]
     },
     "execution_count": 4,
     "metadata": {},
     "output_type": "execute_result"
    }
   ],
   "source": [
    "train_data.columns"
   ]
  },
  {
   "cell_type": "code",
   "execution_count": 5,
   "metadata": {},
   "outputs": [
    {
     "data": {
      "text/html": [
       "<div>\n",
       "<style scoped>\n",
       "    .dataframe tbody tr th:only-of-type {\n",
       "        vertical-align: middle;\n",
       "    }\n",
       "\n",
       "    .dataframe tbody tr th {\n",
       "        vertical-align: top;\n",
       "    }\n",
       "\n",
       "    .dataframe thead th {\n",
       "        text-align: right;\n",
       "    }\n",
       "</style>\n",
       "<table border=\"1\" class=\"dataframe\">\n",
       "  <thead>\n",
       "    <tr style=\"text-align: right;\">\n",
       "      <th></th>\n",
       "      <th>PassengerId</th>\n",
       "      <th>HomePlanet</th>\n",
       "      <th>CryoSleep</th>\n",
       "      <th>Cabin</th>\n",
       "      <th>Destination</th>\n",
       "      <th>Age</th>\n",
       "      <th>VIP</th>\n",
       "      <th>RoomService</th>\n",
       "      <th>FoodCourt</th>\n",
       "      <th>ShoppingMall</th>\n",
       "      <th>Spa</th>\n",
       "      <th>VRDeck</th>\n",
       "      <th>Name</th>\n",
       "      <th>Transported</th>\n",
       "    </tr>\n",
       "  </thead>\n",
       "  <tbody>\n",
       "    <tr>\n",
       "      <th>0</th>\n",
       "      <td>0001_01</td>\n",
       "      <td>Europa</td>\n",
       "      <td>False</td>\n",
       "      <td>B/0/P</td>\n",
       "      <td>TRAPPIST-1e</td>\n",
       "      <td>39.0</td>\n",
       "      <td>False</td>\n",
       "      <td>0.0</td>\n",
       "      <td>0.0</td>\n",
       "      <td>0.0</td>\n",
       "      <td>0.0</td>\n",
       "      <td>0.0</td>\n",
       "      <td>Maham Ofracculy</td>\n",
       "      <td>False</td>\n",
       "    </tr>\n",
       "    <tr>\n",
       "      <th>1</th>\n",
       "      <td>0002_01</td>\n",
       "      <td>Earth</td>\n",
       "      <td>False</td>\n",
       "      <td>F/0/S</td>\n",
       "      <td>TRAPPIST-1e</td>\n",
       "      <td>24.0</td>\n",
       "      <td>False</td>\n",
       "      <td>109.0</td>\n",
       "      <td>9.0</td>\n",
       "      <td>25.0</td>\n",
       "      <td>549.0</td>\n",
       "      <td>44.0</td>\n",
       "      <td>Juanna Vines</td>\n",
       "      <td>True</td>\n",
       "    </tr>\n",
       "    <tr>\n",
       "      <th>2</th>\n",
       "      <td>0003_01</td>\n",
       "      <td>Europa</td>\n",
       "      <td>False</td>\n",
       "      <td>A/0/S</td>\n",
       "      <td>TRAPPIST-1e</td>\n",
       "      <td>58.0</td>\n",
       "      <td>True</td>\n",
       "      <td>43.0</td>\n",
       "      <td>3576.0</td>\n",
       "      <td>0.0</td>\n",
       "      <td>6715.0</td>\n",
       "      <td>49.0</td>\n",
       "      <td>Altark Susent</td>\n",
       "      <td>False</td>\n",
       "    </tr>\n",
       "    <tr>\n",
       "      <th>3</th>\n",
       "      <td>0003_02</td>\n",
       "      <td>Europa</td>\n",
       "      <td>False</td>\n",
       "      <td>A/0/S</td>\n",
       "      <td>TRAPPIST-1e</td>\n",
       "      <td>33.0</td>\n",
       "      <td>False</td>\n",
       "      <td>0.0</td>\n",
       "      <td>1283.0</td>\n",
       "      <td>371.0</td>\n",
       "      <td>3329.0</td>\n",
       "      <td>193.0</td>\n",
       "      <td>Solam Susent</td>\n",
       "      <td>False</td>\n",
       "    </tr>\n",
       "    <tr>\n",
       "      <th>4</th>\n",
       "      <td>0004_01</td>\n",
       "      <td>Earth</td>\n",
       "      <td>False</td>\n",
       "      <td>F/1/S</td>\n",
       "      <td>TRAPPIST-1e</td>\n",
       "      <td>16.0</td>\n",
       "      <td>False</td>\n",
       "      <td>303.0</td>\n",
       "      <td>70.0</td>\n",
       "      <td>151.0</td>\n",
       "      <td>565.0</td>\n",
       "      <td>2.0</td>\n",
       "      <td>Willy Santantines</td>\n",
       "      <td>True</td>\n",
       "    </tr>\n",
       "  </tbody>\n",
       "</table>\n",
       "</div>"
      ],
      "text/plain": [
       "  PassengerId HomePlanet CryoSleep  Cabin  Destination   Age    VIP  \\\n",
       "0     0001_01     Europa     False  B/0/P  TRAPPIST-1e  39.0  False   \n",
       "1     0002_01      Earth     False  F/0/S  TRAPPIST-1e  24.0  False   \n",
       "2     0003_01     Europa     False  A/0/S  TRAPPIST-1e  58.0   True   \n",
       "3     0003_02     Europa     False  A/0/S  TRAPPIST-1e  33.0  False   \n",
       "4     0004_01      Earth     False  F/1/S  TRAPPIST-1e  16.0  False   \n",
       "\n",
       "   RoomService  FoodCourt  ShoppingMall     Spa  VRDeck               Name  \\\n",
       "0          0.0        0.0           0.0     0.0     0.0    Maham Ofracculy   \n",
       "1        109.0        9.0          25.0   549.0    44.0       Juanna Vines   \n",
       "2         43.0     3576.0           0.0  6715.0    49.0      Altark Susent   \n",
       "3          0.0     1283.0         371.0  3329.0   193.0       Solam Susent   \n",
       "4        303.0       70.0         151.0   565.0     2.0  Willy Santantines   \n",
       "\n",
       "   Transported  \n",
       "0        False  \n",
       "1         True  \n",
       "2        False  \n",
       "3        False  \n",
       "4         True  "
      ]
     },
     "execution_count": 5,
     "metadata": {},
     "output_type": "execute_result"
    }
   ],
   "source": [
    "train_data.head()"
   ]
  },
  {
   "cell_type": "code",
   "execution_count": 6,
   "metadata": {},
   "outputs": [
    {
     "data": {
      "text/plain": [
       "PassengerId       0\n",
       "HomePlanet      195\n",
       "CryoSleep       210\n",
       "Cabin             0\n",
       "Destination     178\n",
       "Age             175\n",
       "VIP             197\n",
       "RoomService     177\n",
       "FoodCourt       178\n",
       "ShoppingMall    206\n",
       "Spa             181\n",
       "VRDeck          184\n",
       "Name            198\n",
       "Transported       0\n",
       "dtype: int64"
      ]
     },
     "execution_count": 6,
     "metadata": {},
     "output_type": "execute_result"
    }
   ],
   "source": [
    "train_data.isna().sum()"
   ]
  },
  {
   "cell_type": "code",
   "execution_count": 7,
   "metadata": {},
   "outputs": [],
   "source": [
    "X = train_data.drop(['PassengerId', 'Name', 'Transported'], axis=1)\n",
    "y = train_data['Transported']"
   ]
  },
  {
   "cell_type": "code",
   "execution_count": 62,
   "metadata": {},
   "outputs": [],
   "source": [
    "def drop_pointless_columns(X):\n",
    "    return X.drop(['PassengerId', 'Name'], axis=1)"
   ]
  },
  {
   "cell_type": "code",
   "execution_count": 8,
   "metadata": {},
   "outputs": [
    {
     "data": {
      "text/plain": [
       "(8494, 11)"
      ]
     },
     "execution_count": 8,
     "metadata": {},
     "output_type": "execute_result"
    }
   ],
   "source": [
    "X.shape"
   ]
  },
  {
   "cell_type": "code",
   "execution_count": 9,
   "metadata": {},
   "outputs": [],
   "source": [
    "def snake_case_columns(df):\n",
    "    df.rename(columns={\n",
    "    'HomePlanet': 'home_planet', \n",
    "    'CryoSleep' : 'cryo_sleep', \n",
    "    'Cabin' : 'cabin', \n",
    "    'Destination' : 'destination', \n",
    "    'Age' : 'age', \n",
    "    'VIP' : 'vip',\n",
    "    'RoomService' : 'room_service',\n",
    "    'FoodCourt' : 'food_court',\n",
    "    'ShoppingMall' : 'shopping_mall',\n",
    "    'Spa' : 'spa',\n",
    "    'VRDeck' : 'vr_deck'\n",
    "    }, inplace=True)\n",
    "\n",
    "    return df"
   ]
  },
  {
   "cell_type": "code",
   "execution_count": 10,
   "metadata": {},
   "outputs": [
    {
     "data": {
      "text/html": [
       "<div>\n",
       "<style scoped>\n",
       "    .dataframe tbody tr th:only-of-type {\n",
       "        vertical-align: middle;\n",
       "    }\n",
       "\n",
       "    .dataframe tbody tr th {\n",
       "        vertical-align: top;\n",
       "    }\n",
       "\n",
       "    .dataframe thead th {\n",
       "        text-align: right;\n",
       "    }\n",
       "</style>\n",
       "<table border=\"1\" class=\"dataframe\">\n",
       "  <thead>\n",
       "    <tr style=\"text-align: right;\">\n",
       "      <th></th>\n",
       "      <th>home_planet</th>\n",
       "      <th>cryo_sleep</th>\n",
       "      <th>cabin</th>\n",
       "      <th>destination</th>\n",
       "      <th>age</th>\n",
       "      <th>vip</th>\n",
       "      <th>room_service</th>\n",
       "      <th>food_court</th>\n",
       "      <th>shopping_mall</th>\n",
       "      <th>spa</th>\n",
       "      <th>vr_deck</th>\n",
       "    </tr>\n",
       "  </thead>\n",
       "  <tbody>\n",
       "    <tr>\n",
       "      <th>0</th>\n",
       "      <td>Europa</td>\n",
       "      <td>False</td>\n",
       "      <td>B/0/P</td>\n",
       "      <td>TRAPPIST-1e</td>\n",
       "      <td>39.0</td>\n",
       "      <td>False</td>\n",
       "      <td>0.0</td>\n",
       "      <td>0.0</td>\n",
       "      <td>0.0</td>\n",
       "      <td>0.0</td>\n",
       "      <td>0.0</td>\n",
       "    </tr>\n",
       "    <tr>\n",
       "      <th>1</th>\n",
       "      <td>Earth</td>\n",
       "      <td>False</td>\n",
       "      <td>F/0/S</td>\n",
       "      <td>TRAPPIST-1e</td>\n",
       "      <td>24.0</td>\n",
       "      <td>False</td>\n",
       "      <td>109.0</td>\n",
       "      <td>9.0</td>\n",
       "      <td>25.0</td>\n",
       "      <td>549.0</td>\n",
       "      <td>44.0</td>\n",
       "    </tr>\n",
       "    <tr>\n",
       "      <th>2</th>\n",
       "      <td>Europa</td>\n",
       "      <td>False</td>\n",
       "      <td>A/0/S</td>\n",
       "      <td>TRAPPIST-1e</td>\n",
       "      <td>58.0</td>\n",
       "      <td>True</td>\n",
       "      <td>43.0</td>\n",
       "      <td>3576.0</td>\n",
       "      <td>0.0</td>\n",
       "      <td>6715.0</td>\n",
       "      <td>49.0</td>\n",
       "    </tr>\n",
       "    <tr>\n",
       "      <th>3</th>\n",
       "      <td>Europa</td>\n",
       "      <td>False</td>\n",
       "      <td>A/0/S</td>\n",
       "      <td>TRAPPIST-1e</td>\n",
       "      <td>33.0</td>\n",
       "      <td>False</td>\n",
       "      <td>0.0</td>\n",
       "      <td>1283.0</td>\n",
       "      <td>371.0</td>\n",
       "      <td>3329.0</td>\n",
       "      <td>193.0</td>\n",
       "    </tr>\n",
       "    <tr>\n",
       "      <th>4</th>\n",
       "      <td>Earth</td>\n",
       "      <td>False</td>\n",
       "      <td>F/1/S</td>\n",
       "      <td>TRAPPIST-1e</td>\n",
       "      <td>16.0</td>\n",
       "      <td>False</td>\n",
       "      <td>303.0</td>\n",
       "      <td>70.0</td>\n",
       "      <td>151.0</td>\n",
       "      <td>565.0</td>\n",
       "      <td>2.0</td>\n",
       "    </tr>\n",
       "    <tr>\n",
       "      <th>...</th>\n",
       "      <td>...</td>\n",
       "      <td>...</td>\n",
       "      <td>...</td>\n",
       "      <td>...</td>\n",
       "      <td>...</td>\n",
       "      <td>...</td>\n",
       "      <td>...</td>\n",
       "      <td>...</td>\n",
       "      <td>...</td>\n",
       "      <td>...</td>\n",
       "      <td>...</td>\n",
       "    </tr>\n",
       "    <tr>\n",
       "      <th>8688</th>\n",
       "      <td>Europa</td>\n",
       "      <td>False</td>\n",
       "      <td>A/98/P</td>\n",
       "      <td>55 Cancri e</td>\n",
       "      <td>41.0</td>\n",
       "      <td>True</td>\n",
       "      <td>0.0</td>\n",
       "      <td>6819.0</td>\n",
       "      <td>0.0</td>\n",
       "      <td>1643.0</td>\n",
       "      <td>74.0</td>\n",
       "    </tr>\n",
       "    <tr>\n",
       "      <th>8689</th>\n",
       "      <td>Earth</td>\n",
       "      <td>True</td>\n",
       "      <td>G/1499/S</td>\n",
       "      <td>PSO J318.5-22</td>\n",
       "      <td>18.0</td>\n",
       "      <td>False</td>\n",
       "      <td>0.0</td>\n",
       "      <td>0.0</td>\n",
       "      <td>0.0</td>\n",
       "      <td>0.0</td>\n",
       "      <td>0.0</td>\n",
       "    </tr>\n",
       "    <tr>\n",
       "      <th>8690</th>\n",
       "      <td>Earth</td>\n",
       "      <td>False</td>\n",
       "      <td>G/1500/S</td>\n",
       "      <td>TRAPPIST-1e</td>\n",
       "      <td>26.0</td>\n",
       "      <td>False</td>\n",
       "      <td>0.0</td>\n",
       "      <td>0.0</td>\n",
       "      <td>1872.0</td>\n",
       "      <td>1.0</td>\n",
       "      <td>0.0</td>\n",
       "    </tr>\n",
       "    <tr>\n",
       "      <th>8691</th>\n",
       "      <td>Europa</td>\n",
       "      <td>False</td>\n",
       "      <td>E/608/S</td>\n",
       "      <td>55 Cancri e</td>\n",
       "      <td>32.0</td>\n",
       "      <td>False</td>\n",
       "      <td>0.0</td>\n",
       "      <td>1049.0</td>\n",
       "      <td>0.0</td>\n",
       "      <td>353.0</td>\n",
       "      <td>3235.0</td>\n",
       "    </tr>\n",
       "    <tr>\n",
       "      <th>8692</th>\n",
       "      <td>Europa</td>\n",
       "      <td>False</td>\n",
       "      <td>E/608/S</td>\n",
       "      <td>TRAPPIST-1e</td>\n",
       "      <td>44.0</td>\n",
       "      <td>False</td>\n",
       "      <td>126.0</td>\n",
       "      <td>4688.0</td>\n",
       "      <td>0.0</td>\n",
       "      <td>0.0</td>\n",
       "      <td>12.0</td>\n",
       "    </tr>\n",
       "  </tbody>\n",
       "</table>\n",
       "<p>8494 rows × 11 columns</p>\n",
       "</div>"
      ],
      "text/plain": [
       "     home_planet cryo_sleep     cabin    destination   age    vip  \\\n",
       "0         Europa      False     B/0/P    TRAPPIST-1e  39.0  False   \n",
       "1          Earth      False     F/0/S    TRAPPIST-1e  24.0  False   \n",
       "2         Europa      False     A/0/S    TRAPPIST-1e  58.0   True   \n",
       "3         Europa      False     A/0/S    TRAPPIST-1e  33.0  False   \n",
       "4          Earth      False     F/1/S    TRAPPIST-1e  16.0  False   \n",
       "...          ...        ...       ...            ...   ...    ...   \n",
       "8688      Europa      False    A/98/P    55 Cancri e  41.0   True   \n",
       "8689       Earth       True  G/1499/S  PSO J318.5-22  18.0  False   \n",
       "8690       Earth      False  G/1500/S    TRAPPIST-1e  26.0  False   \n",
       "8691      Europa      False   E/608/S    55 Cancri e  32.0  False   \n",
       "8692      Europa      False   E/608/S    TRAPPIST-1e  44.0  False   \n",
       "\n",
       "      room_service  food_court  shopping_mall     spa  vr_deck  \n",
       "0              0.0         0.0            0.0     0.0      0.0  \n",
       "1            109.0         9.0           25.0   549.0     44.0  \n",
       "2             43.0      3576.0            0.0  6715.0     49.0  \n",
       "3              0.0      1283.0          371.0  3329.0    193.0  \n",
       "4            303.0        70.0          151.0   565.0      2.0  \n",
       "...            ...         ...            ...     ...      ...  \n",
       "8688           0.0      6819.0            0.0  1643.0     74.0  \n",
       "8689           0.0         0.0            0.0     0.0      0.0  \n",
       "8690           0.0         0.0         1872.0     1.0      0.0  \n",
       "8691           0.0      1049.0            0.0   353.0   3235.0  \n",
       "8692         126.0      4688.0            0.0     0.0     12.0  \n",
       "\n",
       "[8494 rows x 11 columns]"
      ]
     },
     "execution_count": 10,
     "metadata": {},
     "output_type": "execute_result"
    }
   ],
   "source": [
    "snake_case_columns(X)"
   ]
  },
  {
   "cell_type": "code",
   "execution_count": 11,
   "metadata": {},
   "outputs": [
    {
     "name": "stdout",
     "output_type": "stream",
     "text": [
      "<class 'pandas.core.frame.DataFrame'>\n",
      "Int64Index: 8494 entries, 0 to 8692\n",
      "Data columns (total 11 columns):\n",
      " #   Column         Non-Null Count  Dtype  \n",
      "---  ------         --------------  -----  \n",
      " 0   home_planet    8299 non-null   object \n",
      " 1   cryo_sleep     8284 non-null   object \n",
      " 2   cabin          8494 non-null   object \n",
      " 3   destination    8316 non-null   object \n",
      " 4   age            8319 non-null   float64\n",
      " 5   vip            8297 non-null   object \n",
      " 6   room_service   8317 non-null   float64\n",
      " 7   food_court     8316 non-null   float64\n",
      " 8   shopping_mall  8288 non-null   float64\n",
      " 9   spa            8313 non-null   float64\n",
      " 10  vr_deck        8310 non-null   float64\n",
      "dtypes: float64(6), object(5)\n",
      "memory usage: 796.3+ KB\n"
     ]
    }
   ],
   "source": [
    "X.info()"
   ]
  },
  {
   "cell_type": "code",
   "execution_count": 12,
   "metadata": {},
   "outputs": [
    {
     "data": {
      "text/plain": [
       "6560"
      ]
     },
     "execution_count": 12,
     "metadata": {},
     "output_type": "execute_result"
    }
   ],
   "source": [
    "X.cabin.nunique() # pretty sus, gonna engineer 3 cols out of this"
   ]
  },
  {
   "cell_type": "code",
   "execution_count": 13,
   "metadata": {},
   "outputs": [],
   "source": [
    "X.dropna(subset=['cabin'], inplace=True) # was causing problems, moved line up\n",
    "X['cabin_deck'] = X.cabin.str[0]\n",
    "X['cabin_num'] = X.cabin.str[2:-2].astype(int)\n",
    "X['cabin_side'] = X.cabin.str[-1]\n",
    "X.drop('cabin', axis=1, inplace=True)"
   ]
  },
  {
   "cell_type": "code",
   "execution_count": 14,
   "metadata": {},
   "outputs": [],
   "source": [
    "def engineer_cabin_cols(df):\n",
    "    df['cabin_deck'] = df.cabin.str[0]\n",
    "    df['cabin_num'] = df.cabin.str[2:-2].astype(int)\n",
    "    df['cabin_side'] = df.cabin.str[-1]\n",
    "    df.drop('cabin', axis=1, inplace=True)\n",
    "    return df\n",
    "    "
   ]
  },
  {
   "cell_type": "code",
   "execution_count": 15,
   "metadata": {},
   "outputs": [
    {
     "data": {
      "text/plain": [
       "(8494, 13)"
      ]
     },
     "execution_count": 15,
     "metadata": {},
     "output_type": "execute_result"
    }
   ],
   "source": [
    "X.shape"
   ]
  },
  {
   "cell_type": "code",
   "execution_count": 16,
   "metadata": {},
   "outputs": [
    {
     "data": {
      "text/plain": [
       "Index(['home_planet', 'cryo_sleep', 'destination', 'age', 'vip',\n",
       "       'room_service', 'food_court', 'shopping_mall', 'spa', 'vr_deck',\n",
       "       'cabin_deck', 'cabin_num', 'cabin_side'],\n",
       "      dtype='object')"
      ]
     },
     "execution_count": 16,
     "metadata": {},
     "output_type": "execute_result"
    }
   ],
   "source": [
    "X.columns"
   ]
  },
  {
   "attachments": {},
   "cell_type": "markdown",
   "metadata": {},
   "source": [
    "### Scalers\n",
    "age - S\n",
    "\n",
    "\n",
    "room_service - mm\n",
    "\n",
    "\n",
    "food_court - mm\n",
    "\n",
    "\n",
    "shopping_mall - mm\n",
    "\n",
    "\n",
    "spa - mm\n",
    "\n",
    "\n",
    "vr_deck - mm\n",
    "\n",
    "\n",
    "cabin_num - mm"
   ]
  },
  {
   "cell_type": "code",
   "execution_count": 17,
   "metadata": {},
   "outputs": [
    {
     "data": {
      "text/plain": [
       "0.0       5447\n",
       "1.0        116\n",
       "2.0         79\n",
       "3.0         58\n",
       "4.0         46\n",
       "          ... \n",
       "424.0        1\n",
       "3471.0       1\n",
       "3340.0       1\n",
       "1406.0       1\n",
       "745.0        1\n",
       "Name: room_service, Length: 1256, dtype: int64"
      ]
     },
     "execution_count": 17,
     "metadata": {},
     "output_type": "execute_result"
    }
   ],
   "source": [
    "X['room_service'].value_counts()\n",
    "\n"
   ]
  },
  {
   "cell_type": "code",
   "execution_count": 18,
   "metadata": {},
   "outputs": [
    {
     "data": {
      "text/plain": [
       "home_planet      2983\n",
       "cryo_sleep       2978\n",
       "destination      2975\n",
       "age              2994\n",
       "vip              2975\n",
       "room_service     2870\n",
       "food_court       2986\n",
       "shopping_mall    2978\n",
       "spa              2976\n",
       "vr_deck          2987\n",
       "cabin_deck       3047\n",
       "cabin_num        3047\n",
       "cabin_side       3047\n",
       "dtype: int64"
      ]
     },
     "execution_count": 18,
     "metadata": {},
     "output_type": "execute_result"
    }
   ],
   "source": [
    "X['room_service'].dropna(inplace=True)\n",
    "X[X.room_service != 0].count()"
   ]
  },
  {
   "cell_type": "code",
   "execution_count": 19,
   "metadata": {},
   "outputs": [
    {
     "data": {
      "text/plain": [
       "home_planet      0.022957\n",
       "cryo_sleep       0.024723\n",
       "destination      0.020956\n",
       "age              0.020603\n",
       "vip              0.023193\n",
       "room_service     0.020838\n",
       "food_court       0.020956\n",
       "shopping_mall    0.024252\n",
       "spa              0.021309\n",
       "vr_deck          0.021662\n",
       "cabin_deck       0.000000\n",
       "cabin_num        0.000000\n",
       "cabin_side       0.000000\n",
       "dtype: float64"
      ]
     },
     "execution_count": 19,
     "metadata": {},
     "output_type": "execute_result"
    }
   ],
   "source": [
    "# calculate the percentage of missing values in each column\n",
    "\n",
    "X.isnull().sum() / X.shape[0]"
   ]
  },
  {
   "attachments": {},
   "cell_type": "markdown",
   "metadata": {},
   "source": [
    "2-3% per row doesn't seem too bad, but the NAs are spread over the cols. If I drop NAs, 2k rows disappear."
   ]
  },
  {
   "attachments": {},
   "cell_type": "markdown",
   "metadata": {},
   "source": [
    "### Imputers\n",
    "\n",
    "home_planet - most frequent\n",
    "\n",
    "\n",
    "cryo - unsure, might check if the cryo Trues are clustered in a cabin area\n",
    "\n",
    "\n",
    "destination - most frequent\n",
    "\n",
    "\n",
    "age - average\n",
    "\n",
    "\n",
    "vip - probably false\n",
    "\n",
    "\n",
    "services - mean"
   ]
  },
  {
   "cell_type": "code",
   "execution_count": 20,
   "metadata": {},
   "outputs": [
    {
     "name": "stderr",
     "output_type": "stream",
     "text": [
      "/home/afonsofroes/.pyenv/versions/3.10.6/envs/lewagon/lib/python3.10/site-packages/seaborn/_decorators.py:36: FutureWarning: Pass the following variable as a keyword arg: x. From version 0.12, the only valid positional argument will be `data`, and passing other arguments without an explicit keyword will result in an error or misinterpretation.\n",
      "  warnings.warn(\n"
     ]
    },
    {
     "data": {
      "text/plain": [
       "<AxesSubplot:xlabel='cabin_deck', ylabel='count'>"
      ]
     },
     "execution_count": 20,
     "metadata": {},
     "output_type": "execute_result"
    },
    {
     "data": {
      "image/png": "[encoded data removed]",
      "text/plain": [
       "<Figure size 640x480 with 1 Axes>"
      ]
     },
     "metadata": {},
     "output_type": "display_data"
    }
   ],
   "source": [
    "sns.countplot(X.cabin_deck, hue=X.vip)"
   ]
  },
  {
   "cell_type": "code",
   "execution_count": 21,
   "metadata": {},
   "outputs": [
    {
     "data": {
      "text/plain": [
       "<AxesSubplot:xlabel='cabin_deck', ylabel='cabin_num'>"
      ]
     },
     "execution_count": 21,
     "metadata": {},
     "output_type": "execute_result"
    },
    {
     "data": {
      "image/png": "[encoded data removed]",
      "text/plain": [
       "<Figure size 640x480 with 1 Axes>"
      ]
     },
     "metadata": {},
     "output_type": "display_data"
    }
   ],
   "source": [
    "# plot the spread of cryo_sleep values throughout the cabin\n",
    "\n",
    "X_cryo = X[X.cryo_sleep == 1]\n",
    "\n",
    "sns.scatterplot(x='cabin_deck', y='cabin_num', data=X_cryo)"
   ]
  },
  {
   "cell_type": "code",
   "execution_count": 22,
   "metadata": {},
   "outputs": [
    {
     "data": {
      "text/plain": [
       "<AxesSubplot:xlabel='cabin_deck', ylabel='cabin_num'>"
      ]
     },
     "execution_count": 22,
     "metadata": {},
     "output_type": "execute_result"
    },
    {
     "data": {
      "image/png": "[encoded data removed]",
      "text/plain": [
       "<Figure size 640x480 with 1 Axes>"
      ]
     },
     "metadata": {},
     "output_type": "display_data"
    }
   ],
   "source": [
    "X_no_cryo = X[X.cryo_sleep == 0]\n",
    "\n",
    "sns.scatterplot(x='cabin_deck', y='cabin_num', data=X_no_cryo)"
   ]
  },
  {
   "cell_type": "code",
   "execution_count": 23,
   "metadata": {},
   "outputs": [
    {
     "data": {
      "text/plain": [
       "<AxesSubplot:xlabel='cabin_side', ylabel='Count'>"
      ]
     },
     "execution_count": 23,
     "metadata": {},
     "output_type": "execute_result"
    },
    {
     "data": {
      "image/png": "[encoded data removed]",
      "text/plain": [
       "<Figure size 640x480 with 1 Axes>"
      ]
     },
     "metadata": {},
     "output_type": "display_data"
    }
   ],
   "source": [
    "sns.histplot(x = X_cryo.cabin_side)"
   ]
  },
  {
   "cell_type": "code",
   "execution_count": 24,
   "metadata": {},
   "outputs": [
    {
     "data": {
      "text/plain": [
       "<AxesSubplot:xlabel='cabin_side', ylabel='Count'>"
      ]
     },
     "execution_count": 24,
     "metadata": {},
     "output_type": "execute_result"
    },
    {
     "data": {
      "image/png": "[encoded data removed]",
      "text/plain": [
       "<Figure size 640x480 with 1 Axes>"
      ]
     },
     "metadata": {},
     "output_type": "display_data"
    }
   ],
   "source": [
    "sns.histplot(x = X_no_cryo.cabin_side)"
   ]
  },
  {
   "attachments": {},
   "cell_type": "markdown",
   "metadata": {},
   "source": [
    "There doesn't seem to be a pattern between passengers being in cryo and their cabin. Maybe we can assume 0 spendings everywhere correlates with being in cryo?"
   ]
  },
  {
   "cell_type": "code",
   "execution_count": 25,
   "metadata": {},
   "outputs": [],
   "source": [
    "# make a column for service total\n",
    "\n",
    "def calculate_service_total(df):\n",
    "    df['service_total'] = df.room_service + df.food_court + df.shopping_mall + df.spa + df.vr_deck\n",
    "    return df\n",
    "\n",
    "X = calculate_service_total(X)"
   ]
  },
  {
   "cell_type": "code",
   "execution_count": 26,
   "metadata": {},
   "outputs": [
    {
     "data": {
      "text/plain": [
       "home_planet      446\n",
       "cryo_sleep       459\n",
       "destination      449\n",
       "age              452\n",
       "vip              445\n",
       "room_service     459\n",
       "food_court       459\n",
       "shopping_mall    459\n",
       "spa              459\n",
       "vr_deck          459\n",
       "cabin_deck       459\n",
       "cabin_num        459\n",
       "cabin_side       459\n",
       "service_total    459\n",
       "dtype: int64"
      ]
     },
     "execution_count": 26,
     "metadata": {},
     "output_type": "execute_result"
    }
   ],
   "source": [
    "# plot non cryo passengers that spent nothing on services\n",
    "\n",
    "X_no_cryo = X[X.cryo_sleep == 0]\n",
    "X_no_cryo[X_no_cryo.service_total == 0].count()"
   ]
  },
  {
   "cell_type": "code",
   "execution_count": 27,
   "metadata": {},
   "outputs": [
    {
     "data": {
      "text/plain": [
       "528"
      ]
     },
     "execution_count": 27,
     "metadata": {},
     "output_type": "execute_result"
    }
   ],
   "source": [
    "X_no_cryo.service_total.isna().sum()"
   ]
  },
  {
   "cell_type": "code",
   "execution_count": 28,
   "metadata": {},
   "outputs": [
    {
     "data": {
      "text/plain": [
       "<AxesSubplot:xlabel='Transported', ylabel='count'>"
      ]
     },
     "execution_count": 28,
     "metadata": {},
     "output_type": "execute_result"
    },
    {
     "data": {
      "image/png": "[encoded data removed]",
      "text/plain": [
       "<Figure size 640x480 with 1 Axes>"
      ]
     },
     "metadata": {},
     "output_type": "display_data"
    }
   ],
   "source": [
    "# spread of people who got transported based on service total\n",
    "\n",
    "X_vis = pd.concat([X, y], axis=1)\n",
    "sns.countplot(x='Transported', data=X_vis[X_vis.vip == 1])"
   ]
  },
  {
   "cell_type": "code",
   "execution_count": 29,
   "metadata": {},
   "outputs": [
    {
     "data": {
      "text/plain": [
       "home_planet      15\n",
       "cryo_sleep       13\n",
       "destination      15\n",
       "age              15\n",
       "vip               0\n",
       "room_service     11\n",
       "food_court       11\n",
       "shopping_mall    11\n",
       "spa              13\n",
       "vr_deck          14\n",
       "cabin_deck       15\n",
       "cabin_num        15\n",
       "cabin_side       15\n",
       "service_total     0\n",
       "dtype: int64"
      ]
     },
     "execution_count": 29,
     "metadata": {},
     "output_type": "execute_result"
    }
   ],
   "source": [
    "# how many rows of X have missing values for vip and service total\n",
    "\n",
    "X[X.vip.isna() & X.service_total.isna()].count()"
   ]
  },
  {
   "attachments": {},
   "cell_type": "markdown",
   "metadata": {},
   "source": [
    "I don't trust this 100%, there seem to be too many NAs in service total - probably struggling to calculate when there are NAs in the service cols. I'll try to impute the NAs in the service cols with 0s and see if that helps."
   ]
  },
  {
   "cell_type": "code",
   "execution_count": 30,
   "metadata": {},
   "outputs": [
    {
     "data": {
      "text/plain": [
       "(8494, 14)"
      ]
     },
     "execution_count": 30,
     "metadata": {},
     "output_type": "execute_result"
    }
   ],
   "source": [
    "X.shape"
   ]
  },
  {
   "cell_type": "code",
   "execution_count": 31,
   "metadata": {},
   "outputs": [],
   "source": [
    "# drop the rows that have NAs for vip and every service column\n",
    "\n",
    "X.dropna(subset=['vip', 'room_service', 'food_court', 'shopping_mall', 'spa', 'vr_deck'], how = 'all', inplace=True)"
   ]
  },
  {
   "cell_type": "code",
   "execution_count": 32,
   "metadata": {},
   "outputs": [
    {
     "data": {
      "text/plain": [
       "(8494, 14)"
      ]
     },
     "execution_count": 32,
     "metadata": {},
     "output_type": "execute_result"
    }
   ],
   "source": [
    "X.shape"
   ]
  },
  {
   "cell_type": "code",
   "execution_count": 33,
   "metadata": {},
   "outputs": [
    {
     "data": {
      "text/html": [
       "<div>\n",
       "<style scoped>\n",
       "    .dataframe tbody tr th:only-of-type {\n",
       "        vertical-align: middle;\n",
       "    }\n",
       "\n",
       "    .dataframe tbody tr th {\n",
       "        vertical-align: top;\n",
       "    }\n",
       "\n",
       "    .dataframe thead th {\n",
       "        text-align: right;\n",
       "    }\n",
       "</style>\n",
       "<table border=\"1\" class=\"dataframe\">\n",
       "  <thead>\n",
       "    <tr style=\"text-align: right;\">\n",
       "      <th></th>\n",
       "      <th>home_planet</th>\n",
       "      <th>cryo_sleep</th>\n",
       "      <th>cabin</th>\n",
       "      <th>destination</th>\n",
       "      <th>age</th>\n",
       "      <th>vip</th>\n",
       "      <th>room_service</th>\n",
       "      <th>food_court</th>\n",
       "      <th>shopping_mall</th>\n",
       "      <th>spa</th>\n",
       "      <th>vr_deck</th>\n",
       "    </tr>\n",
       "  </thead>\n",
       "  <tbody>\n",
       "    <tr>\n",
       "      <th>0</th>\n",
       "      <td>Earth</td>\n",
       "      <td>True</td>\n",
       "      <td>G/3/S</td>\n",
       "      <td>TRAPPIST-1e</td>\n",
       "      <td>27.0</td>\n",
       "      <td>False</td>\n",
       "      <td>0.0</td>\n",
       "      <td>0.0</td>\n",
       "      <td>0.0</td>\n",
       "      <td>0.0</td>\n",
       "      <td>0.0</td>\n",
       "    </tr>\n",
       "    <tr>\n",
       "      <th>1</th>\n",
       "      <td>Earth</td>\n",
       "      <td>False</td>\n",
       "      <td>F/4/S</td>\n",
       "      <td>TRAPPIST-1e</td>\n",
       "      <td>19.0</td>\n",
       "      <td>False</td>\n",
       "      <td>0.0</td>\n",
       "      <td>9.0</td>\n",
       "      <td>0.0</td>\n",
       "      <td>2823.0</td>\n",
       "      <td>0.0</td>\n",
       "    </tr>\n",
       "    <tr>\n",
       "      <th>2</th>\n",
       "      <td>Europa</td>\n",
       "      <td>True</td>\n",
       "      <td>C/0/S</td>\n",
       "      <td>55 Cancri e</td>\n",
       "      <td>31.0</td>\n",
       "      <td>False</td>\n",
       "      <td>0.0</td>\n",
       "      <td>0.0</td>\n",
       "      <td>0.0</td>\n",
       "      <td>0.0</td>\n",
       "      <td>0.0</td>\n",
       "    </tr>\n",
       "    <tr>\n",
       "      <th>3</th>\n",
       "      <td>Europa</td>\n",
       "      <td>False</td>\n",
       "      <td>C/1/S</td>\n",
       "      <td>TRAPPIST-1e</td>\n",
       "      <td>38.0</td>\n",
       "      <td>False</td>\n",
       "      <td>0.0</td>\n",
       "      <td>6652.0</td>\n",
       "      <td>0.0</td>\n",
       "      <td>181.0</td>\n",
       "      <td>585.0</td>\n",
       "    </tr>\n",
       "    <tr>\n",
       "      <th>4</th>\n",
       "      <td>Earth</td>\n",
       "      <td>False</td>\n",
       "      <td>F/5/S</td>\n",
       "      <td>TRAPPIST-1e</td>\n",
       "      <td>20.0</td>\n",
       "      <td>False</td>\n",
       "      <td>10.0</td>\n",
       "      <td>0.0</td>\n",
       "      <td>635.0</td>\n",
       "      <td>0.0</td>\n",
       "      <td>0.0</td>\n",
       "    </tr>\n",
       "    <tr>\n",
       "      <th>...</th>\n",
       "      <td>...</td>\n",
       "      <td>...</td>\n",
       "      <td>...</td>\n",
       "      <td>...</td>\n",
       "      <td>...</td>\n",
       "      <td>...</td>\n",
       "      <td>...</td>\n",
       "      <td>...</td>\n",
       "      <td>...</td>\n",
       "      <td>...</td>\n",
       "      <td>...</td>\n",
       "    </tr>\n",
       "    <tr>\n",
       "      <th>4272</th>\n",
       "      <td>Earth</td>\n",
       "      <td>True</td>\n",
       "      <td>G/1496/S</td>\n",
       "      <td>TRAPPIST-1e</td>\n",
       "      <td>34.0</td>\n",
       "      <td>False</td>\n",
       "      <td>0.0</td>\n",
       "      <td>0.0</td>\n",
       "      <td>0.0</td>\n",
       "      <td>0.0</td>\n",
       "      <td>0.0</td>\n",
       "    </tr>\n",
       "    <tr>\n",
       "      <th>4273</th>\n",
       "      <td>Earth</td>\n",
       "      <td>False</td>\n",
       "      <td>NaN</td>\n",
       "      <td>TRAPPIST-1e</td>\n",
       "      <td>42.0</td>\n",
       "      <td>False</td>\n",
       "      <td>0.0</td>\n",
       "      <td>847.0</td>\n",
       "      <td>17.0</td>\n",
       "      <td>10.0</td>\n",
       "      <td>144.0</td>\n",
       "    </tr>\n",
       "    <tr>\n",
       "      <th>4274</th>\n",
       "      <td>Mars</td>\n",
       "      <td>True</td>\n",
       "      <td>D/296/P</td>\n",
       "      <td>55 Cancri e</td>\n",
       "      <td>NaN</td>\n",
       "      <td>False</td>\n",
       "      <td>0.0</td>\n",
       "      <td>0.0</td>\n",
       "      <td>0.0</td>\n",
       "      <td>0.0</td>\n",
       "      <td>0.0</td>\n",
       "    </tr>\n",
       "    <tr>\n",
       "      <th>4275</th>\n",
       "      <td>Europa</td>\n",
       "      <td>False</td>\n",
       "      <td>D/297/P</td>\n",
       "      <td>NaN</td>\n",
       "      <td>NaN</td>\n",
       "      <td>False</td>\n",
       "      <td>0.0</td>\n",
       "      <td>2680.0</td>\n",
       "      <td>0.0</td>\n",
       "      <td>0.0</td>\n",
       "      <td>523.0</td>\n",
       "    </tr>\n",
       "    <tr>\n",
       "      <th>4276</th>\n",
       "      <td>Earth</td>\n",
       "      <td>True</td>\n",
       "      <td>G/1498/S</td>\n",
       "      <td>PSO J318.5-22</td>\n",
       "      <td>43.0</td>\n",
       "      <td>False</td>\n",
       "      <td>0.0</td>\n",
       "      <td>0.0</td>\n",
       "      <td>0.0</td>\n",
       "      <td>0.0</td>\n",
       "      <td>0.0</td>\n",
       "    </tr>\n",
       "  </tbody>\n",
       "</table>\n",
       "<p>4277 rows × 11 columns</p>\n",
       "</div>"
      ],
      "text/plain": [
       "     home_planet cryo_sleep     cabin    destination   age    vip  \\\n",
       "0          Earth       True     G/3/S    TRAPPIST-1e  27.0  False   \n",
       "1          Earth      False     F/4/S    TRAPPIST-1e  19.0  False   \n",
       "2         Europa       True     C/0/S    55 Cancri e  31.0  False   \n",
       "3         Europa      False     C/1/S    TRAPPIST-1e  38.0  False   \n",
       "4          Earth      False     F/5/S    TRAPPIST-1e  20.0  False   \n",
       "...          ...        ...       ...            ...   ...    ...   \n",
       "4272       Earth       True  G/1496/S    TRAPPIST-1e  34.0  False   \n",
       "4273       Earth      False       NaN    TRAPPIST-1e  42.0  False   \n",
       "4274        Mars       True   D/296/P    55 Cancri e   NaN  False   \n",
       "4275      Europa      False   D/297/P            NaN   NaN  False   \n",
       "4276       Earth       True  G/1498/S  PSO J318.5-22  43.0  False   \n",
       "\n",
       "      room_service  food_court  shopping_mall     spa  vr_deck  \n",
       "0              0.0         0.0            0.0     0.0      0.0  \n",
       "1              0.0         9.0            0.0  2823.0      0.0  \n",
       "2              0.0         0.0            0.0     0.0      0.0  \n",
       "3              0.0      6652.0            0.0   181.0    585.0  \n",
       "4             10.0         0.0          635.0     0.0      0.0  \n",
       "...            ...         ...            ...     ...      ...  \n",
       "4272           0.0         0.0            0.0     0.0      0.0  \n",
       "4273           0.0       847.0           17.0    10.0    144.0  \n",
       "4274           0.0         0.0            0.0     0.0      0.0  \n",
       "4275           0.0      2680.0            0.0     0.0    523.0  \n",
       "4276           0.0         0.0            0.0     0.0      0.0  \n",
       "\n",
       "[4277 rows x 11 columns]"
      ]
     },
     "execution_count": 33,
     "metadata": {},
     "output_type": "execute_result"
    }
   ],
   "source": [
    "X_test = test_data.drop(['PassengerId', 'Name'], axis=1)\n",
    "\n",
    "snake_case_columns(X_test)"
   ]
  },
  {
   "cell_type": "code",
   "execution_count": 34,
   "metadata": {},
   "outputs": [
    {
     "data": {
      "text/plain": [
       "(4277, 11)"
      ]
     },
     "execution_count": 34,
     "metadata": {},
     "output_type": "execute_result"
    }
   ],
   "source": [
    "X_test.dropna(subset=['vip', 'room_service', 'food_court', 'shopping_mall', 'spa', 'vr_deck'], how='all', inplace=True)\n",
    "X_test.shape"
   ]
  },
  {
   "cell_type": "code",
   "execution_count": 35,
   "metadata": {},
   "outputs": [],
   "source": [
    "# imputer for the service columns\n",
    "\n",
    "service_imputer = SimpleImputer(strategy='constant', fill_value=0)\n",
    "\n",
    "# define service cols\n",
    "\n",
    "service_cols = ['room_service', 'food_court', 'shopping_mall', 'spa', 'vr_deck']\n",
    "\n",
    "# apply imputer to service columns\n",
    "\n",
    "X[service_cols] = service_imputer.fit_transform(X[service_cols])"
   ]
  },
  {
   "cell_type": "code",
   "execution_count": 36,
   "metadata": {},
   "outputs": [],
   "source": [
    "X = calculate_service_total(X)"
   ]
  },
  {
   "cell_type": "code",
   "execution_count": 37,
   "metadata": {},
   "outputs": [
    {
     "data": {
      "text/plain": [
       "home_planet      195\n",
       "cryo_sleep       210\n",
       "destination      178\n",
       "age              175\n",
       "vip              197\n",
       "room_service       0\n",
       "food_court         0\n",
       "shopping_mall      0\n",
       "spa                0\n",
       "vr_deck            0\n",
       "cabin_deck         0\n",
       "cabin_num          0\n",
       "cabin_side         0\n",
       "service_total      0\n",
       "dtype: int64"
      ]
     },
     "execution_count": 37,
     "metadata": {},
     "output_type": "execute_result"
    }
   ],
   "source": [
    "X.isna().sum()"
   ]
  },
  {
   "cell_type": "code",
   "execution_count": 38,
   "metadata": {},
   "outputs": [
    {
     "data": {
      "text/plain": [
       "4345.4715025906735"
      ]
     },
     "execution_count": 38,
     "metadata": {},
     "output_type": "execute_result"
    }
   ],
   "source": [
    "# calculate the average service total for VIP passengers\n",
    "\n",
    "vip_service_avg = X[X.vip == 1].service_total.mean()\n",
    "vip_service_avg"
   ]
  },
  {
   "cell_type": "code",
   "execution_count": 39,
   "metadata": {},
   "outputs": [
    {
     "data": {
      "text/plain": [
       "1369.5824284304047"
      ]
     },
     "execution_count": 39,
     "metadata": {},
     "output_type": "execute_result"
    }
   ],
   "source": [
    "non_vip_service_avg = X[X.vip == 0].service_total.mean()\n",
    "non_vip_service_avg"
   ]
  },
  {
   "cell_type": "code",
   "execution_count": 40,
   "metadata": {},
   "outputs": [],
   "source": [
    "# impute the service total for VIP passengers\n",
    "\n",
    "X.loc[(X.vip == 1) & (X.service_total is None), 'service_total'] = vip_service_avg\n",
    "\n",
    "# impute the service total for non-VIP passengers\n",
    "\n",
    "X.loc[(X.vip == 0) & (X.service_total is None), 'service_total'] = non_vip_service_avg"
   ]
  },
  {
   "cell_type": "code",
   "execution_count": 41,
   "metadata": {},
   "outputs": [
    {
     "data": {
      "text/plain": [
       "home_planet      195\n",
       "cryo_sleep       210\n",
       "destination      178\n",
       "age              175\n",
       "vip              197\n",
       "room_service       0\n",
       "food_court         0\n",
       "shopping_mall      0\n",
       "spa                0\n",
       "vr_deck            0\n",
       "cabin_deck         0\n",
       "cabin_num          0\n",
       "cabin_side         0\n",
       "service_total      0\n",
       "dtype: int64"
      ]
     },
     "execution_count": 41,
     "metadata": {},
     "output_type": "execute_result"
    }
   ],
   "source": [
    "X.isna().sum()"
   ]
  },
  {
   "cell_type": "code",
   "execution_count": 42,
   "metadata": {},
   "outputs": [
    {
     "data": {
      "text/plain": [
       "False    8104\n",
       "True      193\n",
       "Name: vip, dtype: int64"
      ]
     },
     "execution_count": 42,
     "metadata": {},
     "output_type": "execute_result"
    }
   ],
   "source": [
    "X.vip.value_counts()"
   ]
  },
  {
   "cell_type": "code",
   "execution_count": 43,
   "metadata": {},
   "outputs": [],
   "source": [
    "X.vip = X.vip.astype(bool)"
   ]
  },
  {
   "cell_type": "code",
   "execution_count": 44,
   "metadata": {},
   "outputs": [
    {
     "name": "stdout",
     "output_type": "stream",
     "text": [
      "<class 'pandas.core.frame.DataFrame'>\n",
      "Int64Index: 8494 entries, 0 to 8692\n",
      "Data columns (total 14 columns):\n",
      " #   Column         Non-Null Count  Dtype  \n",
      "---  ------         --------------  -----  \n",
      " 0   home_planet    8299 non-null   object \n",
      " 1   cryo_sleep     8284 non-null   object \n",
      " 2   destination    8316 non-null   object \n",
      " 3   age            8319 non-null   float64\n",
      " 4   vip            8494 non-null   bool   \n",
      " 5   room_service   8494 non-null   float64\n",
      " 6   food_court     8494 non-null   float64\n",
      " 7   shopping_mall  8494 non-null   float64\n",
      " 8   spa            8494 non-null   float64\n",
      " 9   vr_deck        8494 non-null   float64\n",
      " 10  cabin_deck     8494 non-null   object \n",
      " 11  cabin_num      8494 non-null   int64  \n",
      " 12  cabin_side     8494 non-null   object \n",
      " 13  service_total  8494 non-null   float64\n",
      "dtypes: bool(1), float64(7), int64(1), object(5)\n",
      "memory usage: 937.3+ KB\n"
     ]
    }
   ],
   "source": [
    "X.info()"
   ]
  },
  {
   "cell_type": "code",
   "execution_count": 45,
   "metadata": {},
   "outputs": [],
   "source": [
    "vip_imputer = KNNImputer(n_neighbors=10)\n"
   ]
  },
  {
   "cell_type": "code",
   "execution_count": 46,
   "metadata": {},
   "outputs": [
    {
     "data": {
      "text/plain": [
       "home_planet      195\n",
       "cryo_sleep       210\n",
       "destination      178\n",
       "age              175\n",
       "vip                0\n",
       "room_service       0\n",
       "food_court         0\n",
       "shopping_mall      0\n",
       "spa                0\n",
       "vr_deck            0\n",
       "cabin_deck         0\n",
       "cabin_num          0\n",
       "cabin_side         0\n",
       "service_total      0\n",
       "dtype: int64"
      ]
     },
     "execution_count": 46,
     "metadata": {},
     "output_type": "execute_result"
    }
   ],
   "source": [
    "X.isna().sum()"
   ]
  },
  {
   "cell_type": "code",
   "execution_count": 47,
   "metadata": {},
   "outputs": [],
   "source": [
    "X['vip'] = vip_imputer.fit_transform(X[['vip']])"
   ]
  },
  {
   "cell_type": "code",
   "execution_count": 48,
   "metadata": {},
   "outputs": [
    {
     "data": {
      "text/plain": [
       "0.0    8104\n",
       "1.0     390\n",
       "Name: vip, dtype: int64"
      ]
     },
     "execution_count": 48,
     "metadata": {},
     "output_type": "execute_result"
    }
   ],
   "source": [
    "X.vip.value_counts()"
   ]
  },
  {
   "cell_type": "code",
   "execution_count": 49,
   "metadata": {},
   "outputs": [
    {
     "data": {
      "text/plain": [
       "home_planet      195\n",
       "cryo_sleep       210\n",
       "destination      178\n",
       "age              175\n",
       "vip                0\n",
       "room_service       0\n",
       "food_court         0\n",
       "shopping_mall      0\n",
       "spa                0\n",
       "vr_deck            0\n",
       "cabin_deck         0\n",
       "cabin_num          0\n",
       "cabin_side         0\n",
       "service_total      0\n",
       "dtype: int64"
      ]
     },
     "execution_count": 49,
     "metadata": {},
     "output_type": "execute_result"
    }
   ],
   "source": [
    "X.isna().sum()"
   ]
  },
  {
   "cell_type": "code",
   "execution_count": 50,
   "metadata": {},
   "outputs": [
    {
     "data": {
      "text/html": [
       "<div>\n",
       "<style scoped>\n",
       "    .dataframe tbody tr th:only-of-type {\n",
       "        vertical-align: middle;\n",
       "    }\n",
       "\n",
       "    .dataframe tbody tr th {\n",
       "        vertical-align: top;\n",
       "    }\n",
       "\n",
       "    .dataframe thead th {\n",
       "        text-align: right;\n",
       "    }\n",
       "</style>\n",
       "<table border=\"1\" class=\"dataframe\">\n",
       "  <thead>\n",
       "    <tr style=\"text-align: right;\">\n",
       "      <th></th>\n",
       "      <th>home_planet</th>\n",
       "      <th>cryo_sleep</th>\n",
       "      <th>destination</th>\n",
       "      <th>age</th>\n",
       "      <th>room_service</th>\n",
       "      <th>food_court</th>\n",
       "      <th>shopping_mall</th>\n",
       "      <th>spa</th>\n",
       "      <th>vr_deck</th>\n",
       "      <th>cabin_deck</th>\n",
       "      <th>cabin_num</th>\n",
       "      <th>cabin_side</th>\n",
       "      <th>service_total</th>\n",
       "    </tr>\n",
       "    <tr>\n",
       "      <th>vip</th>\n",
       "      <th></th>\n",
       "      <th></th>\n",
       "      <th></th>\n",
       "      <th></th>\n",
       "      <th></th>\n",
       "      <th></th>\n",
       "      <th></th>\n",
       "      <th></th>\n",
       "      <th></th>\n",
       "      <th></th>\n",
       "      <th></th>\n",
       "      <th></th>\n",
       "      <th></th>\n",
       "    </tr>\n",
       "  </thead>\n",
       "  <tbody>\n",
       "    <tr>\n",
       "      <th>0.0</th>\n",
       "      <td>7917</td>\n",
       "      <td>7904</td>\n",
       "      <td>7932</td>\n",
       "      <td>7935</td>\n",
       "      <td>8104</td>\n",
       "      <td>8104</td>\n",
       "      <td>8104</td>\n",
       "      <td>8104</td>\n",
       "      <td>8104</td>\n",
       "      <td>8104</td>\n",
       "      <td>8104</td>\n",
       "      <td>8104</td>\n",
       "      <td>8104</td>\n",
       "    </tr>\n",
       "    <tr>\n",
       "      <th>1.0</th>\n",
       "      <td>382</td>\n",
       "      <td>380</td>\n",
       "      <td>384</td>\n",
       "      <td>384</td>\n",
       "      <td>390</td>\n",
       "      <td>390</td>\n",
       "      <td>390</td>\n",
       "      <td>390</td>\n",
       "      <td>390</td>\n",
       "      <td>390</td>\n",
       "      <td>390</td>\n",
       "      <td>390</td>\n",
       "      <td>390</td>\n",
       "    </tr>\n",
       "  </tbody>\n",
       "</table>\n",
       "</div>"
      ],
      "text/plain": [
       "     home_planet  cryo_sleep  destination   age  room_service  food_court  \\\n",
       "vip                                                                         \n",
       "0.0         7917        7904         7932  7935          8104        8104   \n",
       "1.0          382         380          384   384           390         390   \n",
       "\n",
       "     shopping_mall   spa  vr_deck  cabin_deck  cabin_num  cabin_side  \\\n",
       "vip                                                                    \n",
       "0.0           8104  8104     8104        8104       8104        8104   \n",
       "1.0            390   390      390         390        390         390   \n",
       "\n",
       "     service_total  \n",
       "vip                 \n",
       "0.0           8104  \n",
       "1.0            390  "
      ]
     },
     "execution_count": 50,
     "metadata": {},
     "output_type": "execute_result"
    }
   ],
   "source": [
    "X.groupby('vip').count()"
   ]
  },
  {
   "cell_type": "code",
   "execution_count": 51,
   "metadata": {},
   "outputs": [
    {
     "data": {
      "text/plain": [
       "home_planet      195\n",
       "cryo_sleep       210\n",
       "destination      178\n",
       "age              175\n",
       "vip                0\n",
       "room_service       0\n",
       "food_court         0\n",
       "shopping_mall      0\n",
       "spa                0\n",
       "vr_deck            0\n",
       "cabin_deck         0\n",
       "cabin_num          0\n",
       "cabin_side         0\n",
       "service_total      0\n",
       "dtype: int64"
      ]
     },
     "execution_count": 51,
     "metadata": {},
     "output_type": "execute_result"
    }
   ],
   "source": [
    "X.isna().sum()"
   ]
  },
  {
   "cell_type": "code",
   "execution_count": 52,
   "metadata": {},
   "outputs": [],
   "source": [
    "age_imputer = SimpleImputer(strategy='median')\n",
    "\n",
    "X['age'] = age_imputer.fit_transform(X[['age']])"
   ]
  },
  {
   "cell_type": "code",
   "execution_count": 53,
   "metadata": {},
   "outputs": [
    {
     "data": {
      "text/plain": [
       "home_planet      195\n",
       "cryo_sleep       210\n",
       "destination      178\n",
       "age                0\n",
       "vip                0\n",
       "room_service       0\n",
       "food_court         0\n",
       "shopping_mall      0\n",
       "spa                0\n",
       "vr_deck            0\n",
       "cabin_deck         0\n",
       "cabin_num          0\n",
       "cabin_side         0\n",
       "service_total      0\n",
       "dtype: int64"
      ]
     },
     "execution_count": 53,
     "metadata": {},
     "output_type": "execute_result"
    }
   ],
   "source": [
    "X.isna().sum()"
   ]
  },
  {
   "cell_type": "code",
   "execution_count": 54,
   "metadata": {},
   "outputs": [
    {
     "data": {
      "text/plain": [
       "<AxesSubplot:xlabel='cryo_sleep', ylabel='count'>"
      ]
     },
     "execution_count": 54,
     "metadata": {},
     "output_type": "execute_result"
    },
    {
     "data": {
      "image/png": "[encoded data removed]",
      "text/plain": [
       "<Figure size 640x480 with 1 Axes>"
      ]
     },
     "metadata": {},
     "output_type": "display_data"
    }
   ],
   "source": [
    "sns.countplot(x='cryo_sleep', hue='Transported', data=X_vis)"
   ]
  },
  {
   "attachments": {},
   "cell_type": "markdown",
   "metadata": {},
   "source": [
    "Very sus"
   ]
  },
  {
   "cell_type": "code",
   "execution_count": 55,
   "metadata": {},
   "outputs": [],
   "source": [
    "X.cryo_sleep = X.cryo_sleep.astype(bool)"
   ]
  },
  {
   "cell_type": "code",
   "execution_count": 56,
   "metadata": {},
   "outputs": [],
   "source": [
    "if X.cryo_sleep is None and X.service_total > 0:\n",
    "    cryo_sleep = 1"
   ]
  },
  {
   "cell_type": "code",
   "execution_count": 57,
   "metadata": {},
   "outputs": [
    {
     "data": {
      "text/plain": [
       "home_planet      195\n",
       "cryo_sleep         0\n",
       "destination      178\n",
       "age                0\n",
       "vip                0\n",
       "room_service       0\n",
       "food_court         0\n",
       "shopping_mall      0\n",
       "spa                0\n",
       "vr_deck            0\n",
       "cabin_deck         0\n",
       "cabin_num          0\n",
       "cabin_side         0\n",
       "service_total      0\n",
       "dtype: int64"
      ]
     },
     "execution_count": 57,
     "metadata": {},
     "output_type": "execute_result"
    }
   ],
   "source": [
    "X.isna().sum()"
   ]
  },
  {
   "cell_type": "code",
   "execution_count": 58,
   "metadata": {},
   "outputs": [],
   "source": [
    "X.drop(columns=['home_planet', 'destination'], inplace=True)"
   ]
  },
  {
   "attachments": {},
   "cell_type": "markdown",
   "metadata": {},
   "source": [
    "# Model - SVM"
   ]
  },
  {
   "cell_type": "code",
   "execution_count": 59,
   "metadata": {},
   "outputs": [
    {
     "data": {
      "text/plain": [
       "(8494,)"
      ]
     },
     "execution_count": 59,
     "metadata": {},
     "output_type": "execute_result"
    }
   ],
   "source": [
    "y.shape"
   ]
  },
  {
   "cell_type": "code",
   "execution_count": 60,
   "metadata": {},
   "outputs": [
    {
     "data": {
      "text/plain": [
       "0.8057680988816951"
      ]
     },
     "execution_count": 60,
     "metadata": {},
     "output_type": "execute_result"
    }
   ],
   "source": [
    "scaler = StandardScaler()\n",
    "X[['age', 'cabin_num']] = scaler.fit_transform(X[['age', 'cabin_num']])\n",
    "\n",
    "X = pd.get_dummies(X, columns=['cabin_deck', 'cabin_side'])\n",
    "\n",
    "model = SVC()\n",
    "\n",
    "X_train, X_val, y_train, y_val = train_test_split(X, y, test_size=0.2)\n",
    "\n",
    "model.fit(X_train, y_train)\n",
    "\n",
    "y_pred = model.predict(X_val)\n",
    "\n",
    "accuracy_score(y_val, y_pred)\n"
   ]
  },
  {
   "attachments": {},
   "cell_type": "markdown",
   "metadata": {},
   "source": [
    "# Make a Pipeline for the model"
   ]
  },
  {
   "cell_type": "code",
   "execution_count": 74,
   "metadata": {},
   "outputs": [
    {
     "ename": "TypeError",
     "evalue": "drop_pointless_columns() missing 1 required positional argument: 'X'",
     "output_type": "error",
     "traceback": [
      "\u001b[0;31m---------------------------------------------------------------------------\u001b[0m",
      "\u001b[0;31mTypeError\u001b[0m                                 Traceback (most recent call last)",
      "\u001b[1;32m/home/afonsofroes/code/afonsofroes/spaceship-titanic/eda.ipynb Cell 70\u001b[0m in \u001b[0;36m5\n\u001b[1;32m      <a href='vscode-notebook-cell://wsl%2Bubuntu/home/afonsofroes/code/afonsofroes/spaceship-titanic/eda.ipynb#Y133sdnNjb2RlLXJlbW90ZQ%3D%3D?line=0'>1</a>\u001b[0m X \u001b[39m=\u001b[39m train_data\u001b[39m.\u001b[39mdrop([\u001b[39m'\u001b[39m\u001b[39mTransported\u001b[39m\u001b[39m'\u001b[39m], axis\u001b[39m=\u001b[39m\u001b[39m1\u001b[39m)\n\u001b[1;32m      <a href='vscode-notebook-cell://wsl%2Bubuntu/home/afonsofroes/code/afonsofroes/spaceship-titanic/eda.ipynb#Y133sdnNjb2RlLXJlbW90ZQ%3D%3D?line=3'>4</a>\u001b[0m preproc \u001b[39m=\u001b[39m make_column_transformer(\n\u001b[0;32m----> <a href='vscode-notebook-cell://wsl%2Bubuntu/home/afonsofroes/code/afonsofroes/spaceship-titanic/eda.ipynb#Y133sdnNjb2RlLXJlbW90ZQ%3D%3D?line=4'>5</a>\u001b[0m     (FunctionTransformer(drop_pointless_columns()), [\u001b[39m'\u001b[39m\u001b[39mPassengerId\u001b[39m\u001b[39m'\u001b[39m, \u001b[39m'\u001b[39m\u001b[39mName\u001b[39m\u001b[39m'\u001b[39m]),\n\u001b[1;32m      <a href='vscode-notebook-cell://wsl%2Bubuntu/home/afonsofroes/code/afonsofroes/spaceship-titanic/eda.ipynb#Y133sdnNjb2RlLXJlbW90ZQ%3D%3D?line=5'>6</a>\u001b[0m     (FunctionTransformer(calculate_service_total()), [\u001b[39m'\u001b[39m\u001b[39mRoomService\u001b[39m\u001b[39m'\u001b[39m, \u001b[39m'\u001b[39m\u001b[39mFoodCourt\u001b[39m\u001b[39m'\u001b[39m, \u001b[39m'\u001b[39m\u001b[39mShoppingMall\u001b[39m\u001b[39m'\u001b[39m, \u001b[39m'\u001b[39m\u001b[39mSpa\u001b[39m\u001b[39m'\u001b[39m, \u001b[39m'\u001b[39m\u001b[39mVRDeck\u001b[39m\u001b[39m'\u001b[39m]),\n\u001b[1;32m      <a href='vscode-notebook-cell://wsl%2Bubuntu/home/afonsofroes/code/afonsofroes/spaceship-titanic/eda.ipynb#Y133sdnNjb2RlLXJlbW90ZQ%3D%3D?line=6'>7</a>\u001b[0m     (FunctionTransformer(engineer_cabin_cols()), [\u001b[39m'\u001b[39m\u001b[39mCabin\u001b[39m\u001b[39m'\u001b[39m]),\n\u001b[1;32m      <a href='vscode-notebook-cell://wsl%2Bubuntu/home/afonsofroes/code/afonsofroes/spaceship-titanic/eda.ipynb#Y133sdnNjb2RlLXJlbW90ZQ%3D%3D?line=7'>8</a>\u001b[0m     (StandardScaler(), [\u001b[39m'\u001b[39m\u001b[39mAge\u001b[39m\u001b[39m'\u001b[39m, \u001b[39m'\u001b[39m\u001b[39mcabin_num\u001b[39m\u001b[39m'\u001b[39m]),\n\u001b[1;32m      <a href='vscode-notebook-cell://wsl%2Bubuntu/home/afonsofroes/code/afonsofroes/spaceship-titanic/eda.ipynb#Y133sdnNjb2RlLXJlbW90ZQ%3D%3D?line=8'>9</a>\u001b[0m     (OneHotEncoder(), [\u001b[39m'\u001b[39m\u001b[39mcabin_deck\u001b[39m\u001b[39m'\u001b[39m, \u001b[39m'\u001b[39m\u001b[39mcabin_side\u001b[39m\u001b[39m'\u001b[39m]),\n\u001b[1;32m     <a href='vscode-notebook-cell://wsl%2Bubuntu/home/afonsofroes/code/afonsofroes/spaceship-titanic/eda.ipynb#Y133sdnNjb2RlLXJlbW90ZQ%3D%3D?line=9'>10</a>\u001b[0m     (SimpleImputer(strategy\u001b[39m=\u001b[39m\u001b[39m'\u001b[39m\u001b[39mconstant\u001b[39m\u001b[39m'\u001b[39m, fill_value\u001b[39m=\u001b[39m\u001b[39m0\u001b[39m), [\u001b[39m'\u001b[39m\u001b[39mRoomService\u001b[39m\u001b[39m'\u001b[39m, \u001b[39m'\u001b[39m\u001b[39mFoodCourt\u001b[39m\u001b[39m'\u001b[39m, \u001b[39m'\u001b[39m\u001b[39mShoppingMall\u001b[39m\u001b[39m'\u001b[39m, \u001b[39m'\u001b[39m\u001b[39mSpa\u001b[39m\u001b[39m'\u001b[39m, \u001b[39m'\u001b[39m\u001b[39mVRDeck\u001b[39m\u001b[39m'\u001b[39m]),\n\u001b[1;32m     <a href='vscode-notebook-cell://wsl%2Bubuntu/home/afonsofroes/code/afonsofroes/spaceship-titanic/eda.ipynb#Y133sdnNjb2RlLXJlbW90ZQ%3D%3D?line=10'>11</a>\u001b[0m     (KNNImputer(n_neighbors\u001b[39m=\u001b[39m\u001b[39m10\u001b[39m), [\u001b[39m'\u001b[39m\u001b[39mVIP\u001b[39m\u001b[39m'\u001b[39m]),\n\u001b[1;32m     <a href='vscode-notebook-cell://wsl%2Bubuntu/home/afonsofroes/code/afonsofroes/spaceship-titanic/eda.ipynb#Y133sdnNjb2RlLXJlbW90ZQ%3D%3D?line=11'>12</a>\u001b[0m     (SimpleImputer(strategy\u001b[39m=\u001b[39m\u001b[39m'\u001b[39m\u001b[39mmedian\u001b[39m\u001b[39m'\u001b[39m), [\u001b[39m'\u001b[39m\u001b[39mAge\u001b[39m\u001b[39m'\u001b[39m]),\n\u001b[1;32m     <a href='vscode-notebook-cell://wsl%2Bubuntu/home/afonsofroes/code/afonsofroes/spaceship-titanic/eda.ipynb#Y133sdnNjb2RlLXJlbW90ZQ%3D%3D?line=12'>13</a>\u001b[0m     (SimpleImputer(strategy\u001b[39m=\u001b[39m\u001b[39m'\u001b[39m\u001b[39mconstant\u001b[39m\u001b[39m'\u001b[39m, fill_value\u001b[39m=\u001b[39m\u001b[39m1\u001b[39m), [\u001b[39m'\u001b[39m\u001b[39mCryoSleep\u001b[39m\u001b[39m'\u001b[39m]),\n\u001b[1;32m     <a href='vscode-notebook-cell://wsl%2Bubuntu/home/afonsofroes/code/afonsofroes/spaceship-titanic/eda.ipynb#Y133sdnNjb2RlLXJlbW90ZQ%3D%3D?line=13'>14</a>\u001b[0m     remainder\u001b[39m=\u001b[39m\u001b[39m'\u001b[39m\u001b[39mdrop\u001b[39m\u001b[39m'\u001b[39m\n\u001b[1;32m     <a href='vscode-notebook-cell://wsl%2Bubuntu/home/afonsofroes/code/afonsofroes/spaceship-titanic/eda.ipynb#Y133sdnNjb2RlLXJlbW90ZQ%3D%3D?line=14'>15</a>\u001b[0m )\n\u001b[1;32m     <a href='vscode-notebook-cell://wsl%2Bubuntu/home/afonsofroes/code/afonsofroes/spaceship-titanic/eda.ipynb#Y133sdnNjb2RlLXJlbW90ZQ%3D%3D?line=16'>17</a>\u001b[0m model \u001b[39m=\u001b[39m SVC()\n\u001b[1;32m     <a href='vscode-notebook-cell://wsl%2Bubuntu/home/afonsofroes/code/afonsofroes/spaceship-titanic/eda.ipynb#Y133sdnNjb2RlLXJlbW90ZQ%3D%3D?line=18'>19</a>\u001b[0m pipeline \u001b[39m=\u001b[39m make_pipeline(preproc, model)\n",
      "\u001b[0;31mTypeError\u001b[0m: drop_pointless_columns() missing 1 required positional argument: 'X'"
     ]
    }
   ],
   "source": [
    "X = train_data.drop(['Transported'], axis=1)\n",
    "\n",
    "\n",
    "preproc = make_column_transformer(\n",
    "    (FunctionTransformer(drop_pointless_columns()), ['PassengerId', 'Name']),\n",
    "    (FunctionTransformer(calculate_service_total()), ['RoomService', 'FoodCourt', 'ShoppingMall', 'Spa', 'VRDeck']),\n",
    "    (FunctionTransformer(engineer_cabin_cols()), ['Cabin']),\n",
    "    (StandardScaler(), ['Age', 'cabin_num']),\n",
    "    (OneHotEncoder(), ['cabin_deck', 'cabin_side']),\n",
    "    (SimpleImputer(strategy='constant', fill_value=0), ['RoomService', 'FoodCourt', 'ShoppingMall', 'Spa', 'VRDeck']),\n",
    "    (KNNImputer(n_neighbors=10), ['VIP']),\n",
    "    (SimpleImputer(strategy='median'), ['Age']),\n",
    "    (SimpleImputer(strategy='constant', fill_value=1), ['CryoSleep']),\n",
    "    remainder='drop'\n",
    ")\n",
    "\n",
    "model = SVC()\n",
    "\n",
    "pipeline = make_pipeline(preproc, model)\n",
    "\n",
    "pipeline.fit(X, y)\n",
    "\n",
    "pipeline.transform(X_test)"
   ]
  },
  {
   "cell_type": "code",
   "execution_count": null,
   "metadata": {},
   "outputs": [],
   "source": []
  }
 ],
 "metadata": {
  "kernelspec": {
   "display_name": "lewagon",
   "language": "python",
   "name": "python3"
  },
  "language_info": {
   "codemirror_mode": {
    "name": "ipython",
    "version": 3
   },
   "file_extension": ".py",
   "mimetype": "text/x-python",
   "name": "python",
   "nbconvert_exporter": "python",
   "pygments_lexer": "ipython3",
   "version": "3.10.6"
  },
  "orig_nbformat": 4
 },
 "nbformat": 4,
 "nbformat_minor": 2
}
